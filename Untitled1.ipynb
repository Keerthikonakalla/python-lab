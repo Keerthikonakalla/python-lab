{
  "nbformat": 4,
  "nbformat_minor": 0,
  "metadata": {
    "colab": {
      "name": "Untitled1.ipynb",
      "provenance": [],
      "collapsed_sections": [],
      "authorship_tag": "ABX9TyO/5FT9wzS8I1huMlcqCzg/",
      "include_colab_link": true
    },
    "kernelspec": {
      "display_name": "Python 3",
      "name": "python3"
    },
    "language_info": {
      "name": "python"
    }
  },
  "cells": [
    {
      "cell_type": "markdown",
      "metadata": {
        "id": "view-in-github",
        "colab_type": "text"
      },
      "source": [
        "<a href=\"https://colab.research.google.com/github/Keerthikonakalla/python-lab/blob/main/Untitled1.ipynb\" target=\"_parent\"><img src=\"https://colab.research.google.com/assets/colab-badge.svg\" alt=\"Open In Colab\"/></a>"
      ]
    },
    {
      "cell_type": "markdown",
      "metadata": {
        "id": "3YLZytEuc6HG"
      },
      "source": [
        "NAME: k.keerthi chandana \n",
        " \n",
        "REG NO:19A21A0595\n",
        " \n",
        "SECTION: CSE-B"
      ]
    },
    {
      "cell_type": "markdown",
      "metadata": {
        "id": "dtORF28ndEy5"
      },
      "source": [
        "Exercise-1 (BASICS)\n",
        " \n",
        "A.Write program interactive, interpretation,python script mode"
      ]
    },
    {
      "cell_type": "markdown",
      "metadata": {
        "id": "cy26bNJ5xa1Q"
      },
      "source": [
        "Aim- To Running instructions in Interactive interpreter and a Python Script"
      ]
    },
    {
      "cell_type": "markdown",
      "metadata": {
        "id": "OCHWRoqIxy91"
      },
      "source": [
        "Description"
      ]
    },
    {
      "cell_type": "markdown",
      "metadata": {
        "id": "VKv474usx0Zv"
      },
      "source": [
        " Python is a high-level, interpreted, interactive and object-oriented scripting language. Python is \n",
        "designed to be highly readable. It uses English keywords frequently where as other languages \n",
        "use punctuation, and it has fewer syntactical constructions than other languages.\n",
        "Python is Interpreted \n",
        "Python is Interactive\n",
        "Python is Object-Oriented\n",
        "Python is a Beginner's Language\n",
        "Python Programming Running Python Scripts\n",
        "Running Python in THREE ways:\n",
        "a) Running Python Interpreter\n",
        "b) Running Python Scripts in IDLE\n",
        "c) Running python scripts in Command Prompt\n",
        "a) Running Python Interpreter: Python comes with an interactive interpreter. When you type \n",
        "python in your shell or command prompt, the python interpreter becomes active with a >>> \n",
        "prompt and waits for your commands\n",
        "b) Running Python Scripts in IDLE: . Go to File menu click on New File (CTRL+N) and write the \n",
        "code and save first.py\n",
        "c) Running python scripts in Command Prompt: ** **bold text · Before going to run we have to \n",
        "check the PATH in environment variables."
      ]
    },
    {
      "cell_type": "code",
      "metadata": {
        "id": "2M1_bGb6UtTI",
        "colab": {
          "base_uri": "https://localhost:8080/"
        },
        "outputId": "e2d33968-0f45-41a6-934a-22ce01919183"
      },
      "source": [
        " a=78\n",
        "b=89\n",
        "a,b=b,a\n",
        "print(a,b)"
      ],
      "execution_count": null,
      "outputs": [
        {
          "output_type": "stream",
          "name": "stdout",
          "text": [
            "89 78\n"
          ]
        }
      ]
    },
    {
      "cell_type": "markdown",
      "metadata": {
        "id": "hvjNtE-qyIZ1"
      },
      "source": [
        " B.Write a program to purposefully raise Indentation Error and Correct it"
      ]
    },
    {
      "cell_type": "markdown",
      "metadata": {
        "id": "Dw_jXZ8GyKUq"
      },
      "source": [
        "Aim- To Write a program to purposefully raise Indentation Error and Correct it"
      ]
    },
    {
      "cell_type": "markdown",
      "metadata": {
        "id": "DqxuFPm2yO5D"
      },
      "source": [
        "Description"
      ]
    },
    {
      "cell_type": "markdown",
      "metadata": {
        "id": "KsNNeJybyP5M"
      },
      "source": [
        " Indentation\n",
        "Python does not support braces to indicate blocks of code for class and function \n",
        "definitions or flow control.\n",
        "Blocks of code are denoted by line indentation.\n",
        "All the continuous lines indented with same number of spaces would form a block. \n",
        "Python strictly follow indentation rules to indicate the blocks"
      ]
    },
    {
      "cell_type": "code",
      "metadata": {
        "id": "Vr72ygmTZLiZ"
      },
      "source": [
        " \n",
        " \n",
        "if True:\n",
        "    print(\"True\");\n",
        "   else:\n",
        "    print(\"false\");\n",
        " File \"<ipython-input-1-2c87d8a5da42>\", line 3\n",
        " else:\n",
        " ^\n",
        "IndentationError: unindent does not match any outer indentation level"
      ],
      "execution_count": null,
      "outputs": []
    },
    {
      "cell_type": "markdown",
      "metadata": {
        "id": "SaZBrff7aJ_5"
      },
      "source": [
        " Correct program"
      ]
    },
    {
      "cell_type": "code",
      "metadata": {
        "colab": {
          "base_uri": "https://localhost:8080/"
        },
        "id": "-JUARa8LaBl9",
        "outputId": "33c937f2-eac4-447e-c718-5b24019814f2"
      },
      "source": [
        " \n",
        " \n",
        "if True:\n",
        "    print(\"True\");\n",
        "else:\n",
        "    print(\"false\");"
      ],
      "execution_count": null,
      "outputs": [
        {
          "output_type": "stream",
          "name": "stdout",
          "text": [
            "True\n"
          ]
        }
      ]
    },
    {
      "cell_type": "markdown",
      "metadata": {
        "id": "__nH8Befe7MT"
      },
      "source": [
        " EXERCISE-2 (OPERATIONS)\n",
        " \n",
        "A.COMPUTE DISTANCE BETWEEN TWO POINTS"
      ]
    },
    {
      "cell_type": "markdown",
      "metadata": {
        "id": "IRiGn1EMzDtk"
      },
      "source": [
        "Aim-To COMPUTE DISTANCE BETWEEN TWO POINTS"
      ]
    },
    {
      "cell_type": "markdown",
      "metadata": {
        "id": "3ACRS8VGzJhl"
      },
      "source": [
        "Description"
      ]
    },
    {
      "cell_type": "markdown",
      "metadata": {
        "id": "E3i4H95DzLzu"
      },
      "source": [
        " Taking Input From the User: A function is defined as a block of organized, reusable code used to \n",
        "perform a single, related action. Python has many built-in functions; you can also create your \n",
        "own.\n",
        "Python has an input function which lets you ask a user for some text input. You call this function \n",
        "to tell the program to stop and wait for the user to key in the data.\n",
        "In Python 2, you have a built-in function raw_input(), whereas in Python 3, you have input(). The \n",
        "program will resume once the user presses the ENTER or RETURN key.\n",
        "Input Function\n",
        "input(prompt=None,/).\n",
        "Read a string from standard input. The trailing newline is stripped.\n",
        "The prompt string, if given, is printed to standard output without a trailing newline before reading \n",
        "input.\n",
        "If the user hits EOF (*nix: Ctrl-D, Windows: Ctrl Z+Return), raise EOFError."
      ]
    },
    {
      "cell_type": "code",
      "metadata": {
        "id": "Ra12w43iVfY5",
        "colab": {
          "base_uri": "https://localhost:8080/"
        },
        "outputId": "cb00ced1-dcf7-407c-c509-70aff35c6fb7"
      },
      "source": [
        " x1=10\n",
        "x2=80\n",
        "y1=12\n",
        "y2=20\n",
        "z=(pow((x2-x1),2)+pow((y2-y1),2))**0.5\n",
        "print(z)"
      ],
      "execution_count": null,
      "outputs": [
        {
          "output_type": "stream",
          "name": "stdout",
          "text": [
            "70.45565981523414\n"
          ]
        }
      ]
    },
    {
      "cell_type": "code",
      "metadata": {
        "id": "_kO69bNSVqWA",
        "colab": {
          "base_uri": "https://localhost:8080/"
        },
        "outputId": "afa85ac7-c81f-4d95-cd05-c51fb60b9568"
      },
      "source": [
        " 60\n",
        "import math\n",
        "x1=int(input(\"enter  x1 value:\"))\n",
        "x2=int(input(\"enter  x2 value:\"))\n",
        "y1=int(input(\"enter  y1 value:\"))\n",
        "y2=int(input(\"enter  y2 value:\"))\n",
        "z=math.sqrt((x2-x1)**2+(y2-y1)**2)\n",
        "print(\"the distance between two points is :\",z)\n",
        "print(\"the distance between two points is :\",z,sep='\\t')\n",
        "print(\"the distance between ({}, {})and ({},{}) is  :{}\".format(x1,y1,x2,y2,z))\n",
        " \n",
        "print(\"the distance between (%d, %d)and (%d,%d) is  :%f\"%(x1,y1,x2,y2,z))"
      ],
      "execution_count": null,
      "outputs": [
        {
          "output_type": "stream",
          "name": "stdout",
          "text": [
            "enter  x1 value:6\n",
            "enter  x2 value:5\n",
            "enter  y1 value:4\n",
            "enter  y2 value:2\n",
            "the distance between two points is : 2.23606797749979\n",
            "the distance between two points is :\t2.23606797749979\n",
            "the distance between (6, 4)and (5,2) is  :2.23606797749979\n",
            "the distance between (6, 4)and (5,2) is  :2.236068\n"
          ]
        }
      ]
    },
    {
      "cell_type": "markdown",
      "metadata": {
        "id": "OdVp6f8vzxJV"
      },
      "source": [
        " B.TAKE TWO NUMBERS ON COMMAND LINE ARGUMENTS"
      ]
    },
    {
      "cell_type": "markdown",
      "metadata": {
        "id": "tQmj5cQYzysW"
      },
      "source": [
        "Aim- To TAKE TWO NUMBERS ON COMMAND LINE ARGUMENTS"
      ]
    },
    {
      "cell_type": "markdown",
      "metadata": {
        "id": "mfak8Xawz-Se"
      },
      "source": [
        "Description"
      ]
    },
    {
      "cell_type": "markdown",
      "metadata": {
        "id": "byyemudn0SGV"
      },
      "source": [
        " The arguments that are given after the name of the program in the command line shell of \n",
        "the operating system are known as Command Line Arguments. Python provides various \n",
        "ways of dealing with these types of arguments. The three most common are:\n",
        "Using sys.argv \n",
        "Using getopt module\n",
        "Using argparse module \n",
        "Using sys.argv\n",
        "The sys module provides functions and variables used to manipulate different parts of the \n",
        "Python runtime environment. This module provides access to some variables used or\n",
        "maintained by the interpreter and to functions that interact strongly with the interpreter. \n",
        "One such variable is sys.argv which is a simple list structure. It’s main purpose are:\n",
        "It is a list of command line arguments.\n",
        "len(sys.argv) provides the number of command line arguments.\n",
        "ys.argv[0] is the name of the current Python script."
      ]
    },
    {
      "cell_type": "code",
      "metadata": {
        "id": "zIhW-ptZV2s5"
      },
      "source": [
        " import sys\n",
        "a=sys.argv[1]\n",
        "b=sys.argv[2]\n",
        "sum=int(a)+int(b)\n",
        "print(\"sum of two number is:\",sum)"
      ],
      "execution_count": null,
      "outputs": []
    },
    {
      "cell_type": "markdown",
      "metadata": {
        "id": "qxGLat_DWEXR"
      },
      "source": [
        " EXCERSCISE-3 (CONTROL FLOW)\n",
        " \n",
        "A) Write a Program for checking whether the given number is an even number or not."
      ]
    },
    {
      "cell_type": "markdown",
      "metadata": {
        "id": "dwuj5pbszdhA"
      },
      "source": [
        " Aim-To Write a Program for checking whether the given number is an even number or not."
      ]
    },
    {
      "cell_type": "markdown",
      "metadata": {
        "id": "_zxl5kpFziMQ"
      },
      "source": [
        "Description"
      ]
    },
    {
      "cell_type": "markdown",
      "metadata": {
        "id": "v-0Nb4kqzjPm"
      },
      "source": [
        " if..else Statement When there is an alternate operation in control flow, use an else statement \n",
        "alongside with if statement. The general format is\n",
        "if condition:\n",
        "else:\n",
        "false statement"
      ]
    },
    {
      "cell_type": "code",
      "metadata": {
        "id": "0FgjlO_eWNtt",
        "colab": {
          "base_uri": "https://localhost:8080/"
        },
        "outputId": "e2b867b9-a9a4-4360-96db-2c771bd82cdb"
      },
      "source": [
        " n=int(input(\"enter a number:\"))\n",
        "if (n%2)==0:\n",
        "        print(\"given number is even\")\n",
        "else:\n",
        "      print(\"given number is odd\")"
      ],
      "execution_count": null,
      "outputs": [
        {
          "output_type": "stream",
          "name": "stdout",
          "text": [
            "enter a number:4\n",
            "given number is even\n"
          ]
        }
      ]
    },
    {
      "cell_type": "markdown",
      "metadata": {
        "id": "FzlJBlTH0-kn"
      },
      "source": [
        " b) Using a for loop, write a program that prints out the decimal equivalents of 1/2, 1/3, 1/4, . . .1/10"
      ]
    },
    {
      "cell_type": "markdown",
      "metadata": {
        "id": "kG44KulX1Cms"
      },
      "source": [
        "Aim- To write a program that prints out the decimal equivalents of 1/2, 1/3, 1/4, . . .1/10 by using for loop"
      ]
    },
    {
      "cell_type": "markdown",
      "metadata": {
        "id": "0f2HcZVY1NvF"
      },
      "source": [
        "Description"
      ]
    },
    {
      "cell_type": "markdown",
      "metadata": {
        "id": "szvsQzkT1PmT"
      },
      "source": [
        " For Loop: For loops can iterate over a sequence of numbers using the \"range\" and \"xrange\"\n",
        "functions. The difference between range and xrange is that the range function returns a new list \n",
        "with numbers of that specified range, whereas xrange returns an iterator, which is more eficient.\n",
        "The general format is\n",
        "for x in range(start,stop,step): \n",
        "statements"
      ]
    },
    {
      "cell_type": "code",
      "metadata": {
        "id": "z2UNL_48WQ5q",
        "colab": {
          "base_uri": "https://localhost:8080/"
        },
        "outputId": "2919dfc2-ff35-4a52-8042-8a4f53824376"
      },
      "source": [
        " n=int(input(\"enter a number:\"))\n",
        "for i in range(2,n):\n",
        "    de=1/i;\n",
        "    print(\"1/\",i,\"=\",de)"
      ],
      "execution_count": null,
      "outputs": [
        {
          "output_type": "stream",
          "name": "stdout",
          "text": [
            "enter a number:5\n",
            "1/ 2 = 0.5\n",
            "1/ 3 = 0.3333333333333333\n",
            "1/ 4 = 0.25\n"
          ]
        }
      ]
    },
    {
      "cell_type": "markdown",
      "metadata": {
        "id": "bRluV1k11Y95"
      },
      "source": [
        " c) Write a program using a for loop that loops over a sequence. What is sequence?"
      ]
    },
    {
      "cell_type": "markdown",
      "metadata": {
        "id": "TC2-r1kX1fhS"
      },
      "source": [
        "Aim- To Write a program using a for loop that loops over a sequence. What is sequence?"
      ]
    },
    {
      "cell_type": "markdown",
      "metadata": {
        "id": "SDuOf2Xv1r2z"
      },
      "source": [
        "Description"
      ]
    },
    {
      "cell_type": "markdown",
      "metadata": {
        "id": "xa1cw7-u1s9O"
      },
      "source": [
        " For Loop: For loops can iterate over a sequence of numbers using the \"range\" and \"xrange\"\n",
        "functions. The difference between range and xrange is that the range function returns a new list \n",
        "with numbers of that specified range, whereas xrange returns an iterator, which is more eficient.\n",
        "The general format is\n",
        "for x in range(start,stop,step): \n",
        "statements"
      ]
    },
    {
      "cell_type": "code",
      "metadata": {
        "colab": {
          "base_uri": "https://localhost:8080/"
        },
        "id": "WYNCQw9zfyS6",
        "outputId": "ba0daad2-a708-4ce4-d4b6-9c6917893a70"
      },
      "source": [
        " \n",
        "arr=[4,\"abc\",-45,'c',10.5,True,5,10.6,\"xyz\"]\n",
        "print(\"given array:\",arr) \n",
        "for x in arr:\n",
        "     print(x)"
      ],
      "execution_count": null,
      "outputs": [
        {
          "output_type": "stream",
          "name": "stdout",
          "text": [
            "given array: [4, 'abc', -45, 'c', 10.5, True, 5, 10.6, 'xyz']\n",
            "4\n",
            "abc\n",
            "-45\n",
            "c\n",
            "10.5\n",
            "True\n",
            "5\n",
            "10.6\n",
            "xyz\n"
          ]
        }
      ]
    },
    {
      "cell_type": "markdown",
      "metadata": {
        "id": "A1wZk98k17uQ"
      },
      "source": [
        " d) Write a program using a while loop that asks the user for a number, and prints a"
      ]
    },
    {
      "cell_type": "code",
      "metadata": {
        "id": "3az9unWGWU7a",
        "colab": {
          "base_uri": "https://localhost:8080/"
        },
        "outputId": "b12be1ff-9014-4757-abc9-01c3d3405206"
      },
      "source": [
        " \n",
        "print(\"loop sequence\")\n",
        "num=[45,25,2,28,3,25]\n",
        "for i in num:\n",
        "    print(i)\n",
        " \n",
        "#string sequence\n",
        "print(\"string sequence\")\n",
        "days=[\"sun\",\"mon\",\"tue\",\"wed\",\"thur\",\"fri\",\"st\"]\n",
        "for d in days:\n",
        "    print(d)\n",
        "    \n",
        "#bothh sequence\n",
        "print(\"sequence\")\n",
        "arr=[123,\"abc\",5.6,'h',-33,\"xy\",True]\n",
        "for x in arr:\n",
        "      print(x)"
      ],
      "execution_count": null,
      "outputs": [
        {
          "output_type": "stream",
          "name": "stdout",
          "text": [
            "loop sequence\n",
            "45\n",
            "25\n",
            "2\n",
            "28\n",
            "3\n",
            "25\n",
            "string sequence\n",
            "sun\n",
            "mon\n",
            "tue\n",
            "wed\n",
            "thur\n",
            "fri\n",
            "st\n",
            "sequence\n",
            "123\n",
            "abc\n",
            "5.6\n",
            "h\n",
            "-33\n",
            "xy\n",
            "True\n"
          ]
        }
      ]
    },
    {
      "cell_type": "markdown",
      "metadata": {
        "id": "B3tLUKw0WkSt"
      },
      "source": [
        " EXCERCISE-4 (CONTROL FLOW-CONTINUED)\n",
        " \n",
        "a) Find the sum of all the primes below two million. Each new term in the Fibonacci sequence is generated by adding the previous two terms. Bystarting with 1 and 2, the first 10 terms will be: 1, 2, 3, 5, 8, 13, 21, 34, 55, 89, ..."
      ]
    },
    {
      "cell_type": "markdown",
      "metadata": {
        "id": "8akmciTW2gE6"
      },
      "source": [
        "Aim-To Find the sum of all the primes below two million. Each new term in the Fibonacci sequence is generated by adding the previous two terms. Bystarting with 1 and 2, the first 10 terms will be: 1, 2, 3, 5, 8, 13, 21, 34, 55, 89, ..."
      ]
    },
    {
      "cell_type": "markdown",
      "metadata": {
        "id": "ELXPE4ws2srz"
      },
      "source": [
        "Description"
      ]
    },
    {
      "cell_type": "markdown",
      "metadata": {
        "id": "HthxMvbD2uZB"
      },
      "source": [
        " A Fibonacci sequence is the integer sequence of 0, 1, 1, 2, 3, 5, 8....\n",
        "The first two terms are 0 and 1. All other terms are obtained by adding the preceding two terms. \n",
        "This means to say the nth term is the sum of (n-1)th and (n-2)th term\n",
        "Here, we store the number of terms in nterms. We initialize the first term to 0 and the second \n",
        "term to 1.\n",
        "If the number of terms is more than 2, we use a while loop to find the next term in the sequence \n",
        "by adding the preceding two terms. We then interchange the variables (update it) and continue \n",
        "on with the process."
      ]
    },
    {
      "cell_type": "code",
      "metadata": {
        "colab": {
          "base_uri": "https://localhost:8080/"
        },
        "id": "GIZLjTjw0_66",
        "outputId": "372fe8fb-4a17-445f-f8d1-f7b7f6512388"
      },
      "source": [
        " \n",
        "n=int(input(\"enter a number:\"))\n",
        "c=0\n",
        "st=\"\"\n",
        "sum=0\n",
        "for i in range(2,n):\n",
        "    state=True\n",
        "    for j in range(2,i):\n",
        "        if(i%j==0):\n",
        "         state=False\n",
        "         break;\n",
        "    if state==True:\n",
        "        st+=\"\"+str(i)\n",
        "        c+=1\n",
        "        sum+=i\n",
        "print(\"prime numbers\")\n",
        "print(st)\n",
        "print(\"total count of the prime numbers:\",c)\n",
        "print(\"sum of all prime nums:\",sum)"
      ],
      "execution_count": null,
      "outputs": [
        {
          "output_type": "stream",
          "name": "stdout",
          "text": [
            "enter a number:5\n",
            "prime numbers\n",
            "23\n",
            "total count of the prime numbers: 2\n",
            "sum of all prime nums: 5\n"
          ]
        }
      ]
    },
    {
      "cell_type": "markdown",
      "metadata": {
        "id": "7_-BkM7g3QOS"
      },
      "source": [
        " b) By considering the terms in the Fibonacci sequence whose values do not exceed four million,find the sum of the even-valued terms"
      ]
    },
    {
      "cell_type": "markdown",
      "metadata": {
        "id": "quYpkTbH3SB9"
      },
      "source": [
        "Aim-To find the sum of the even-valued termsBy considering the terms in the Fibonacci sequence whose values do not exceed four million,find the sum of the even-valued terms"
      ]
    },
    {
      "cell_type": "markdown",
      "metadata": {
        "id": "as0IQ47G4U2V"
      },
      "source": [
        "Description"
      ]
    },
    {
      "cell_type": "markdown",
      "metadata": {
        "id": "i8-pkwJ24Wfi"
      },
      "source": [
        " A Fibonacci sequence is the integer sequence of 0, 1, 1, 2, 3, 5, 8....\n",
        "The first two terms are 0 and 1. All other terms are obtained by adding the preceding two terms. \n",
        "This means to say the nth term is the sum of (n-1)th and (n-2)th term\n",
        "Here, we store the number of terms in nterms. We initialize the first term to 0 and the second \n",
        "term to 1.\n",
        "If the number of terms is more than 2, we use a while loop to find the next term in the sequence \n",
        "by adding the preceding two terms. We then interchange the variables (update it) and continue \n",
        "on with the process."
      ]
    },
    {
      "cell_type": "code",
      "metadata": {
        "colab": {
          "base_uri": "https://localhost:8080/"
        },
        "id": "a23Lv0W0z-di",
        "outputId": "a0f41895-803d-432f-89dd-023e94708b72"
      },
      "source": [
        " \n",
        "n=int(input(\"Enter value of n: \"))\n",
        "a=0\n",
        "b=1\n",
        "c=a+b\n",
        "sum=0\n",
        "print(\"Even numbers in Fibonacci series:\\t \",end='')\n",
        "while c<=n:\n",
        "    if c%2==0:\n",
        "        print(c,end=' ')\n",
        "        sum+=c\n",
        "    a=b\n",
        "    b=c\n",
        "    c=a+b\n",
        "print(\"\\nsum of Fibonacci Series is: \",sum)"
      ],
      "execution_count": null,
      "outputs": [
        {
          "output_type": "stream",
          "name": "stdout",
          "text": [
            "Enter value of n: 10\n",
            "Even numbers in Fibonacci series:\t 2 8 \n",
            "sum of Fibonacci Series is:  10\n"
          ]
        }
      ]
    },
    {
      "cell_type": "markdown",
      "metadata": {
        "id": "dCPu8QEGW3RH"
      },
      "source": [
        " EXCERCISE-5\n",
        " \n",
        "DS\n",
        " \n",
        "A) Write a program to count the numbers of characters in the string and store them in adictionary data structure"
      ]
    },
    {
      "cell_type": "markdown",
      "metadata": {
        "id": "NNYF4T8_4nTM"
      },
      "source": [
        " Aim-To Write a program to count the numbers of characters in the string and store them in adictionary data structure"
      ]
    },
    {
      "cell_type": "markdown",
      "metadata": {
        "id": "qc4ivOUJ4sXq"
      },
      "source": [
        "Description"
      ]
    },
    {
      "cell_type": "markdown",
      "metadata": {
        "id": "UR5eEYD44uNa"
      },
      "source": [
        " Given a string, the task is to find the frequencies of all the characters in that string and return a \n",
        "dictionary with key as the character and its value as its frequency in the given string.\n",
        "Method #1 : Naive method\n",
        "Simply iterate through the string and form a key in dictionary of newly occurred element or if \n",
        "element is already occurred, increase its value by 1.\n",
        "Method #2 : Using collections.Counter()\n",
        "The most suggested method that could be used to find all occurrences is this method, this \n",
        "actually gets all element frequency and could also be used to print single element frequency if \n",
        "required"
      ]
    },
    {
      "cell_type": "code",
      "metadata": {
        "id": "GlWRZeOUW8UY",
        "colab": {
          "base_uri": "https://localhost:8080/"
        },
        "outputId": "fdd348a7-737c-4e95-ff40-2f5b5879c10f"
      },
      "source": [
        " name=input(\"enter a name:\")\n",
        "dic={}\n",
        "for ch in name:\n",
        "    keys=dic.keys()\n",
        " \n",
        "    if(ch in keys):\n",
        "        dic[ch]=dic[ch]+1\n",
        "    else:\n",
        "        dic[ch]=1\n",
        " \n",
        "print(\"dictinarry is:\",dic)"
      ],
      "execution_count": null,
      "outputs": [
        {
          "output_type": "stream",
          "name": "stdout",
          "text": [
            "enter a name:Keerthi\n",
            "dictinarry is: {'K': 1, 'e': 2, 'r': 1, 't': 1, 'h': 1, 'i': 1}\n"
          ]
        }
      ]
    },
    {
      "cell_type": "markdown",
      "metadata": {
        "id": "LSgJT9RP51NL"
      },
      "source": [
        " b) Write a program to use split and join methods in the string and trace a birthday with adictionary data structure."
      ]
    },
    {
      "cell_type": "markdown",
      "metadata": {
        "id": "9tHvzU9s55Wv"
      },
      "source": [
        "Aim-To Write a program to use split and join methods in the string and trace a birthday with adictionary data structure."
      ]
    },
    {
      "cell_type": "markdown",
      "metadata": {
        "id": "H-Ge5hFN6f1p"
      },
      "source": [
        " DESCRIPTION:\n",
        "Python program to Split a string based on a delimiter and join the string using another delimiter.\n",
        "Split a string can be quite useful sometimes, especially when you need only certain parts of \n",
        "strings. A simple yet effective example is splitting the First-name and Last-name of a person.\n",
        "Another application is CSV(Comma Separated Files). We use split to get data from CSV and join \n",
        "to write data to CSV.\n",
        "In Python, we can use the function split() to split a string and \n",
        "join() to join a string."
      ]
    },
    {
      "cell_type": "code",
      "metadata": {
        "id": "VPHG-GsbXB-I",
        "colab": {
          "base_uri": "https://localhost:8080/"
        },
        "outputId": "0f4a0d2b-497f-4d01-9a06-84c7e2ad2446"
      },
      "source": [
        " dob={\"keerthi chandana\":\"29-12-2001\",\"meghana\":\"13-05-2002\"}\n",
        "name=input(\"enter which person dob u want:\")\n",
        "l=name.split()\n",
        "birth=\"\"\n",
        "for i in l:\n",
        "    if i in dob.keys():\n",
        "        pers=i\n",
        " \n",
        "print(\"\".join([pers,\" birthday is:\",dob[pers]]))"
      ],
      "execution_count": null,
      "outputs": [
        {
          "output_type": "stream",
          "name": "stdout",
          "text": [
            "enter which person dob u want:meghana\n",
            "meghana birthday is:13-05-2002\n"
          ]
        }
      ]
    },
    {
      "cell_type": "markdown",
      "metadata": {
        "id": "vpuJXpH-XKca"
      },
      "source": [
        " EXERCISE-6\n",
        " \n",
        "DS - Continued\n",
        " \n",
        "a) Write a program combinelists that combines these lists into a dictionary."
      ]
    },
    {
      "cell_type": "markdown",
      "metadata": {
        "id": "FlLodB9h6Do0"
      },
      "source": [
        "Aim-To Write a program combinelists that combines these lists into a dictionary."
      ]
    },
    {
      "cell_type": "markdown",
      "metadata": {
        "id": "oFTZeBiy6L5y"
      },
      "source": [
        " Description"
      ]
    },
    {
      "cell_type": "markdown",
      "metadata": {
        "id": "tEmAxq2i6aqN"
      },
      "source": [
        " For this, simply declare a dictionary, and then run nested loop for both the lists and assign key \n",
        "and value pairs to from list values to dictionary.\n",
        "Most pythonic and generic method to perform this very task is by using zip(). This function pairs \n",
        "the list element with other list element at corresponding index in form of key-value pairs"
      ]
    },
    {
      "cell_type": "code",
      "metadata": {
        "id": "ufHnhfRZXOYY",
        "colab": {
          "base_uri": "https://localhost:8080/"
        },
        "outputId": "dfe80f2c-9e8d-4e0f-bb88-ef3b5205a6b7"
      },
      "source": [
        " sub=[\"daa\",\"os\",\"dbms\",\"p&s\",\"ppl\",\"se\"]\n",
        "marks=[85,96,75,65,83,56]\n",
        "print(sub)\n",
        "print(marks)\n",
        "dic=dict(zip(sub,marks))\n",
        "print(dic)"
      ],
      "execution_count": null,
      "outputs": [
        {
          "output_type": "stream",
          "name": "stdout",
          "text": [
            "['daa', 'os', 'dbms', 'p&s', 'ppl', 'se']\n",
            "[85, 96, 75, 65, 83, 56]\n",
            "{'daa': 85, 'os': 96, 'dbms': 75, 'p&s': 65, 'ppl': 83, 'se': 56}\n"
          ]
        }
      ]
    },
    {
      "cell_type": "markdown",
      "metadata": {
        "id": "2SbE-j3I66bx"
      },
      "source": [
        " b) Write a program to count frequency of characters in a given file. Can you use character frequency to tell whether the given file is a Python program file, C program file or a text file?"
      ]
    },
    {
      "cell_type": "markdown",
      "metadata": {
        "id": "Cr5dIyto67nQ"
      },
      "source": [
        "Aim-To Write a program to count frequency of characters in a given file. Can you use character frequency to tell whether the given file is a Python program file, C program file or a text file"
      ]
    },
    {
      "cell_type": "markdown",
      "metadata": {
        "id": "qrNj6p0S7tCl"
      },
      "source": [
        "Description"
      ]
    },
    {
      "cell_type": "markdown",
      "metadata": {
        "id": "5LSVwccf7uqr"
      },
      "source": [
        " approaches to count the number of times a letter appears in a text file in Python. \n",
        "Method 1: Using the in-built count() method.\n",
        "Approach:\n",
        "1. Read the file.\n",
        "2. Store the content of the file in a variable.\n",
        "3. Use the count() method with the argument as a letter whose frequency is required.\n",
        "4. Display the count of the letter."
      ]
    },
    {
      "cell_type": "code",
      "metadata": {
        "id": "0pAE_o2VXSJ1"
      },
      "source": [
        " filetypes=['.py','.c','.txt']\n",
        "fn=input(\"enter a fikle name:\")\n",
        "f=open(fn,\"r\")\n",
        "count=dict()\n",
        "for  ft in filetypes:\n",
        "     if(ft in  fn):\n",
        "           if(ft==\".py\"):\n",
        "             print(\"python file\")\n",
        "           elif(ft==\".c\"):\n",
        "             print(\"cfile\")\n",
        "           elif(ft==\".txt\"):\n",
        "             print(\"text file\")\n",
        " \n",
        " \n",
        "for line in f:\n",
        "     for ch in line:\n",
        "          if ch in count:\n",
        "               count[ch]=count[ch]+1\n",
        " \n",
        "          else:\n",
        "              count[ch]=1\n",
        " \n",
        " \n",
        "print(count)\n",
        "f.close()"
      ],
      "execution_count": null,
      "outputs": []
    },
    {
      "cell_type": "markdown",
      "metadata": {
        "id": "sUUtGJRQXar-"
      },
      "source": [
        " EXCERCISE-7 FILES\n",
        "\n",
        " \n",
        "a) Write a program to print each line of a file in reverse order."
      ]
    },
    {
      "cell_type": "markdown",
      "metadata": {
        "id": "mgIf-SHm79t2"
      },
      "source": [
        "Aim-To Write a program to print each line of a file in reverse order."
      ]
    },
    {
      "cell_type": "markdown",
      "metadata": {
        "id": "TDm_X8Br8GfR"
      },
      "source": [
        "Description"
      ]
    },
    {
      "cell_type": "markdown",
      "metadata": {
        "id": "qoT6xj4E8H5f"
      },
      "source": [
        " The file handling plays an important role when the data needs to be stored permanently into the \n",
        "file. A file is a named location on disk to store related information. We can access the stored\n",
        "information (non-volatile) after the program termination. In Python, files are treated in two \n",
        "modes as text or binary. The file may be in the text or binary format, and each line of a file is \n",
        "ended with the special character. Hence, a file operation can be done in the following order.\n",
        "□ Open a file\n",
        "□ Read or write - Performing operation\n",
        "□ Close the file"
      ]
    },
    {
      "cell_type": "code",
      "metadata": {
        "id": "Y75mc69nXdva"
      },
      "source": [
        " obj=open(\"sam.txt\",\"r\")\n",
        "if obj:\n",
        "    st=obj.read()\n",
        "    print(\"file content is:\")\n",
        "obj.close()\n",
        "print()\n",
        "lines=st.split('\\n')\n",
        "for ln in lines:\n",
        "    i=len(ln)-1\n",
        "    while(i>=0):\n",
        "      print(ln[i],end='')\n",
        "      i=i-1\n",
        "    print()"
      ],
      "execution_count": null,
      "outputs": []
    },
    {
      "cell_type": "markdown",
      "metadata": {
        "id": "-5fY3Cc98dE2"
      },
      "source": [
        " b) Write a program to compute the number of characters, words and lines in a file."
      ]
    },
    {
      "cell_type": "markdown",
      "metadata": {
        "id": "veyk81Im8fgq"
      },
      "source": [
        "Aim-To Write a program to compute the number of characters, words and lines in a file."
      ]
    },
    {
      "cell_type": "markdown",
      "metadata": {
        "id": "uHyqjtbS8l3v"
      },
      "source": [
        " DESCRIPTION:\n",
        "Given a text file fname, the task is to count the total number of characters, words, spaces and \n",
        "lines in the file.\n",
        "As we know, Python provides multiple in-built features and modules for handling files. Let’s\n",
        "discuss different ways to calculate total number of characters, words, spaces and lines in a file \n",
        "using Python.\n",
        "Method #1: Naive approach\n",
        "In this approach, the idea is to solve the task by developing our own logic. Without using any \n",
        "built-in function of Python, the total number of characters, words, spaces and lines of the file will \n",
        "be calculated.\n",
        "Method #2: Using some built-in functions and OS module functions\n",
        "In this approach, the idea is to use the os.linesep() method of OS module to separate the lines \n",
        "on the current platform. When the interpreter’s scanner encounter os.linesep it replaces it with\n",
        "\\n character. After that strip() and split() functions will be used to carry out the task"
      ]
    },
    {
      "cell_type": "code",
      "metadata": {
        "id": "sx9xhrU6XhcK"
      },
      "source": [
        " obj=open(\"sam.txt\",\"r\")\n",
        "if obj:\n",
        "    st=obj.read()\n",
        "    print(\"file content is:\")\n",
        "obj.close()\n",
        "print()\n",
        "nc=nw=nl=0\n",
        "for ch in st:\n",
        "    if(ch):\n",
        "        nc=nc+1\n",
        "    if(ch==''):\n",
        "        nw=nw+1\n",
        "    if(ch=='\\n'):\n",
        "        nl=nl+1\n",
        " \n",
        "print(\"number of characters in a file:\",nc)\n",
        "print(\"number of words in file is:\",nw)\n",
        "print(\"number of lines ins file:\",nl)"
      ],
      "execution_count": null,
      "outputs": []
    },
    {
      "cell_type": "markdown",
      "metadata": {
        "id": "5-j5WZvaXlzI"
      },
      "source": [
        " EXCERCISE-8\n",
        " FUNCTIONS\n",
        " \n",
        "a) Write a function ball collide that takes two balls as parameters and computes if they arecolliding. Your function should return a Boolean representing whether or not the balls arecolliding. Hint: Represent a ball on a plane as a tuple of (x, y, r), r being the radius If (distance between two balls centers) <= (sum of their radii) then (they are colliding)"
      ]
    },
    {
      "cell_type": "markdown",
      "metadata": {
        "id": "PW_fxbL581tA"
      },
      "source": [
        " AIM:\n",
        "To Write a function ball collide that takes two balls as parameters and computes if they \n",
        "arecolliding. Your function should return a Boolean representing whether or not the balls \n",
        "arecolliding.\n",
        "Hint: Represent a ball on a plane as a tuple of (x, y, r), r being the radius If (distance between two \n",
        "balls centers) <= (sum of their radii) then (they are colliding)"
      ]
    },
    {
      "cell_type": "markdown",
      "metadata": {
        "id": "rzsO-10383gc"
      },
      "source": [
        "\n",
        " DESCRIPTION\n",
        "\n",
        "\n",
        "Functions A function in python is a block of code that is defined for doing frequent operations in \n",
        "a particular task. The general format is\n",
        "def Functionname(arguments):\n",
        "Statements\n",
        "Calling a Function:\n",
        "A function can be called by its name followed by arguments within parenthesis. \n",
        "function()"
      ]
    },
    {
      "cell_type": "code",
      "metadata": {
        "id": "faaM0WWtXxZG",
        "colab": {
          "base_uri": "https://localhost:8080/"
        },
        "outputId": "c5bc18ba-a19f-4d0b-c8af-33a941263b13"
      },
      "source": [
        " import math\n",
        "def ballcollide(b1tup,b2tup):\n",
        "    x1=b1tup[0]\n",
        "    y1=b1tup[1]\n",
        "    x2=b2tup[0]\n",
        "    y2=b2tup[1]\n",
        "    r1=b1tup[2]\n",
        "    r2=b2tup[2]\n",
        " \n",
        " \n",
        "    d=math.sqrt((x2-x1)**2+(y2-y1)**2)\n",
        "    if(d<=r1+r2):\n",
        "      return True\n",
        "    else:\n",
        "        return False\n",
        " \n",
        " \n",
        "ball1=(1,2,3)\n",
        "ball2=(3,2,1)\n",
        "c=ballcollide(ball1,ball2)\n",
        "if(c):\n",
        "    print(\"balls are collided\")\n",
        "else:\n",
        "    print(\"ball are not collided\")"
      ],
      "execution_count": null,
      "outputs": [
        {
          "output_type": "stream",
          "name": "stdout",
          "text": [
            "balls are collided\n"
          ]
        }
      ]
    },
    {
      "cell_type": "markdown",
      "metadata": {
        "id": "9I22oWaU9CjI"
      },
      "source": [
        " b) Find mean, median, mode for the given set of numbers in a list."
      ]
    },
    {
      "cell_type": "markdown",
      "metadata": {
        "id": "qn3mXxkO9GQO"
      },
      "source": [
        "Aim- To Find mean, median, mode for the given set of numbers in a list."
      ]
    },
    {
      "cell_type": "markdown",
      "metadata": {
        "id": "S1kCj2819Oj8"
      },
      "source": [
        "Description"
      ]
    },
    {
      "cell_type": "markdown",
      "metadata": {
        "id": "4uluDOT29WOj"
      },
      "source": [
        " Mean : The mean is the average of all numbers and is sometimes called the arithmetic mean. \n",
        "This code calculates Mean or Average of a list containing numbers:\n",
        "Median : The median is the middle number in a group of numbers. This code calculates Median \n",
        "of a list containing numbers:\n",
        "Mode : The mode is the number that occurs most often within a set of numbers. This code \n",
        "calculates Mode of a list containing numbers:\n",
        "We will import Counter from collections library which is a built-in module in Python 2 and 3. This \n",
        "module will help us count duplicate elements in a list. We define a list of numbers and calculate \n",
        "the length of the list. We then call Counter (a dict subclass) which helps to count hashable \n",
        "objects, and we then convert it to dict object. We then initialize a list with a For Loop to compare \n",
        "all the dict values (Number of elements) to the max of all dict values (count of most occurring \n",
        "element) and it returns all the elements equal to max count. If the elements returned are equal to \n",
        "the number of total elements in a list then we print out ‘No mode’, else we print out the modes \n",
        "returned."
      ]
    },
    {
      "cell_type": "code",
      "metadata": {
        "id": "jJm7HfPkYJDJ"
      },
      "source": [
        " def mean(numlist):\n",
        "    return sum(numlist)/len(numlist)\n",
        "def median(numlist):\n",
        "    numlist.sort()\n",
        "    print(numlist)\n",
        "    n=len(numlist)\n",
        "    print(\"total\",n)\n",
        "    mid=n//2\n",
        "    print(\"mid:\",mid)\n",
        "    if(n%2==0):\n",
        "        return numlist[mid]\n",
        "    else:\n",
        "        return (numlist[mid-1]+numlist[mid])/2\n",
        "def mode(numlist):\n",
        "    numlist.sort()\n",
        "    temp=[]\n",
        "    i=0\n",
        "    while i<len(numlist):\n",
        "        temp.append(numlist.count(numlist[i]))\n",
        "        i+=1\n",
        "    dic=dict(zip(numlist,temp))\n",
        "    modes={k for k, v in dic.items() if(v==max(temp))}\n",
        "    return modes\n",
        "list=[1,1,2,2,3,4,5,3,3]\n",
        "print(\"mean of guive list:\",mean(list))\n",
        "print(\"median of guive list:\",median(list))\n",
        " \n",
        "print(\"mode of guive list:\",mode(list))"
      ],
      "execution_count": null,
      "outputs": []
    },
    {
      "cell_type": "markdown",
      "metadata": {
        "id": "gySivr-sYODG"
      },
      "source": [
        " Exercise - 9\n",
        " \n",
        "Functions - Continued\n",
        " \n",
        " a) Write a function nearly equal to test whether two strings are nearly equal. Two strings a and bare nearly equal when a can be generated by a single mutation on b."
      ]
    },
    {
      "cell_type": "markdown",
      "metadata": {
        "id": "UYfSAhId9oJt"
      },
      "source": [
        "Aim-To Write a function nearly equal to test whether two strings are nearly equal. Two strings a and bare nearly equal when a can be generated by a single mutation on b."
      ]
    },
    {
      "cell_type": "markdown",
      "metadata": {
        "id": "jrpMldBaJawj"
      },
      "source": [
        " DESCRIPTION:\n",
        "strlen() function is used to check wether the two string are nearly equal or not by basis of the \n",
        "Length of those Strings len() function is an inbuilt function in Python programming language that returns the length of \n",
        "the string.\n",
        "len() is a built-in function in python.You can use the len() to get the length of the given string, \n",
        "array, list, tuple, dictionary, etc.\n",
        "Value: the given value you want the length of.\n",
        "Return value a return an integer value i.e. the length of the given string, or array, or list, or \n",
        "collections."
      ]
    },
    {
      "cell_type": "code",
      "metadata": {
        "id": "8Atc3FntYSTL",
        "colab": {
          "base_uri": "https://localhost:8080/"
        },
        "outputId": "4378ba64-40f3-40cf-ed3a-b7d56ea3c46b"
      },
      "source": [
        " def nearlyeq(str1,str2):\n",
        "    count=0\n",
        "    i=j=0\n",
        "    ss=0\n",
        "    while(i<len(str1)and j<len(str2)):\n",
        "        if(str1[i]!=str2[j]):\n",
        "            count+=1\n",
        "        if(len(str1)>len(str2)):\n",
        "            i+=1\n",
        " \n",
        "        elif(len(str1)==len(str2)):\n",
        "            pass\n",
        "        else:\n",
        "            i-=1     \n",
        "        if(count>1):\n",
        "             ss-=1\n",
        "             \n",
        "        i+=1\n",
        "        j+=1\n",
        "        if(count<2):\n",
        "             ss+=1\n",
        " \n",
        "    return ss\n",
        "s1=input(\"enter a string 1:\")\n",
        "s2=input(\"enter the string2:\")\n",
        "t=nearlyeq(s1,s2)\n",
        "if(t>1):\n",
        "    print(\"neraly equal0\")\n",
        "else:\n",
        "    print(\"not nearly equal\")"
      ],
      "execution_count": null,
      "outputs": [
        {
          "output_type": "stream",
          "name": "stdout",
          "text": [
            "enter a string 1:Keerthi \n",
            "enter the string2:Keerthi k\n",
            "not nearly equal\n"
          ]
        }
      ]
    },
    {
      "cell_type": "markdown",
      "metadata": {
        "id": "wU95pqDZJvDH"
      },
      "source": [
        " b) Write a function dup to find all duplicates in the list."
      ]
    },
    {
      "cell_type": "markdown",
      "metadata": {
        "id": "0UW4d4oUJwui"
      },
      "source": [
        "Aim-To Write a function dup to find all duplicates in the list."
      ]
    },
    {
      "cell_type": "markdown",
      "metadata": {
        "id": "d5HNKKTrKAKP"
      },
      "source": [
        "Description"
      ]
    },
    {
      "cell_type": "markdown",
      "metadata": {
        "id": "rsKASO7wJ16B"
      },
      "source": [
        " To check if a list contains any duplicate element follow the following steps,\n",
        "1. Add the contents of list in a set\n",
        "2. Compare the size of set and list.\n",
        "If size of list & set is equal then it means no duplicates in list.\n",
        "3. If size of list & set are different then it means yes, there are duplicates in list."
      ]
    },
    {
      "cell_type": "code",
      "metadata": {
        "id": "uIoJg3SGYV2y",
        "colab": {
          "base_uri": "https://localhost:8080/"
        },
        "outputId": "88a1d65c-7d6a-42d0-d0d3-ed1670b4c1d8"
      },
      "source": [
        " def dup(list):\n",
        "  list1=[]\n",
        "  for i in list:\n",
        "    count=list.count(i)\n",
        "    if(count>1 and (i not in list1)):\n",
        "        list1.append(i)\n",
        "        \n",
        "  print(\"the dups int he list are:\",list1)        \n",
        "list2=[1,2,1,2]\n",
        " \n",
        "dup(list2)"
      ],
      "execution_count": null,
      "outputs": [
        {
          "output_type": "stream",
          "name": "stdout",
          "text": [
            "the dups int he list are: [1, 2]\n"
          ]
        }
      ]
    },
    {
      "cell_type": "markdown",
      "metadata": {
        "id": "cNwCWO4QKEnk"
      },
      "source": [
        " c) Write a function unique to find all the unique elements of a list"
      ]
    },
    {
      "cell_type": "markdown",
      "metadata": {
        "id": "TmJ3mf9yKQN1"
      },
      "source": [
        "Aim-To Write a function unique to find all the unique elements of a list"
      ]
    },
    {
      "cell_type": "markdown",
      "metadata": {
        "id": "ZqtR7IuHKUZq"
      },
      "source": [
        " DESCRIPTION:\n",
        "To find the unique in the list .There is a Specific Method i.e., \n",
        "Method : Traversal of list\n",
        "Using traversal, we can traverse for every element in the list and check if the element is in the \n",
        "unique_list already if it is not over there, then we can append it in the unique_list.\n",
        "This is done using one for loop and other if statement which check if the value is in the unique \n",
        "list or not which is equivalent to another for loop"
      ]
    },
    {
      "cell_type": "code",
      "metadata": {
        "id": "ba0UtIVFYckI",
        "colab": {
          "base_uri": "https://localhost:8080/"
        },
        "outputId": "3652251a-cd78-4cb4-b24e-102e6022b58f"
      },
      "source": [
        " def unique(list1):\n",
        "  list2={}\n",
        " \n",
        "  for i in list1:\n",
        "    c=list1.count(i)\n",
        "    if c==1:\n",
        "      list2[i]=c\n",
        "  print(\"the unique elements in the list are:\",list2)\n",
        " \n",
        "list=[1,2,3,45,45,6,88,88,9]\n",
        "unique(list)"
      ],
      "execution_count": null,
      "outputs": [
        {
          "output_type": "stream",
          "name": "stdout",
          "text": [
            "the unique elements in the list are: {1: 1, 2: 1, 3: 1, 6: 1, 9: 1}\n"
          ]
        }
      ]
    },
    {
      "cell_type": "markdown",
      "metadata": {
        "id": "xb9q71FiYgn9"
      },
      "source": [
        " Exercise - 10\n",
        " \n",
        "Functions - Problem Solving\n",
        " \n",
        "a) Write a function cumulative product to compute cumulative product of a list of numbers."
      ]
    },
    {
      "cell_type": "markdown",
      "metadata": {
        "id": "l_d8gKKzKgJW"
      },
      "source": [
        "Aim-To Write a function cumulative product to compute cumulative product of a list of numbers"
      ]
    },
    {
      "cell_type": "markdown",
      "metadata": {
        "id": "iUbpBUE1K0uM"
      },
      "source": [
        " DESCRIPTION:\n",
        "A cumulative product is a sequence of partial products of a given sequence. For example, the \n",
        "cumulative products of the sequence. , are , , .. Cumulative products can be implemented in the \n",
        "Wolfram Language as Rest[FoldList[Times, 1, list]]\n",
        "cumprod(A,1) works on successive elements in the columns of A and returns the \n",
        "cumulative products of each column. cumprod(A,2) works on successive elements in the \n",
        "rows of A and returns the cumulative products of each row.\n",
        "umprod() function is used when we want to compute the cumulative product of array elements \n",
        "over a given axis. Syntax : numpy.cumprod(arr, axis=None, dtype=None, out=None) Parameters : \n",
        "arr : [array_like] Array containing numbers whose cumulative product is desired"
      ]
    },
    {
      "cell_type": "code",
      "metadata": {
        "id": "Dwc0IiyPyK_J",
        "colab": {
          "base_uri": "https://localhost:8080/"
        },
        "outputId": "2792ca41-1e8c-4548-81c6-2d93a5ef0521"
      },
      "source": [
        " def cum_prod(numlist):\n",
        "  prod=1\n",
        "  temp=[]\n",
        "  for i in numlist:\n",
        "    prod*=i\n",
        "    temp.append(prod)\n",
        "  return temp\n",
        "lst=[1,2,4,5,3]\n",
        "print(\"Given list is : \",lst)\n",
        "print(\"Cumulative product is: \",cum_prod(lst))"
      ],
      "execution_count": null,
      "outputs": [
        {
          "output_type": "stream",
          "name": "stdout",
          "text": [
            "Given list is :  [1, 2, 4, 5, 3]\n",
            "Cumulative product is:  [1, 2, 8, 40, 120]\n"
          ]
        }
      ]
    },
    {
      "cell_type": "markdown",
      "metadata": {
        "id": "aEgQMPwnLArN"
      },
      "source": [
        " b) Write a function reverse to reverse a list. Without using the reverse function."
      ]
    },
    {
      "cell_type": "markdown",
      "metadata": {
        "id": "SW_Un5eWLBvs"
      },
      "source": [
        "Aim-To Write a function reverse to reverse a list. Without using the reverse function."
      ]
    },
    {
      "cell_type": "markdown",
      "metadata": {
        "id": "BaKJeqLwd8G0"
      },
      "source": [
        " DESCRIPTION:\n",
        "In this Python code snippet post, we are going to implement a list reverse function from the \n",
        "scratch without using any builtin functions.\n",
        "Let us see how… \n",
        "Iterative solution\n",
        "We can use a for loop to swap the first and last items, the second and the one before the last\n",
        "item and so on until the list is reversed in place. The number of iterations needed is half the list \n",
        "size. If the list has an odd number of items then the middle item will stay in its place."
      ]
    },
    {
      "cell_type": "code",
      "metadata": {
        "id": "QdGoIuE9YoKy",
        "colab": {
          "base_uri": "https://localhost:8080/"
        },
        "outputId": "de121dd8-be98-4b7d-e683-817928ca6cd6"
      },
      "source": [
        " def reverse_list(numlist):\n",
        "    temp=list1[::-1]\n",
        "    numlist=temp\n",
        "    return temp\n",
        "list1=[1,2,3,4]\n",
        "print(\"given list is :\",list1)\n",
        "print(\"after reverse function:\",reverse_list(list1))\n",
        "print(\"after list is:\",list1)"
      ],
      "execution_count": null,
      "outputs": [
        {
          "output_type": "stream",
          "name": "stdout",
          "text": [
            "given list is : [1, 2, 3, 4]\n",
            "after reverse function: [4, 3, 2, 1]\n",
            "after list is: [1, 2, 3, 4]\n"
          ]
        }
      ]
    },
    {
      "cell_type": "markdown",
      "metadata": {
        "id": "0vnJ49VfLNEO"
      },
      "source": [
        " c) Write function to compute gcd, lcm of two numbers. Each function shouldn’t exceed one line"
      ]
    },
    {
      "cell_type": "markdown",
      "metadata": {
        "id": "ByQ7BBwdLRqS"
      },
      "source": [
        "Aim-To Write function to compute gcd, lcm of two numbers. Each function shouldn’t exceed one line"
      ]
    },
    {
      "cell_type": "markdown",
      "metadata": {
        "id": "4SuuKqQbLWme"
      },
      "source": [
        " Description \n",
        "\n",
        "\n",
        "Python provides you an anonymous function called lambda. It can take any number of \n",
        "arguments, but can only have one expression. It can be used to find LCM and GCD values \n",
        "without exceeding each from from one line.\n",
        "The general format is\n",
        "lambda arguments: expression\n",
        "The expression is executed during the function call and the result is returned.\n",
        "Lambda as a Function\n",
        "The power of using a lambda expression is implementing it using a function"
      ]
    },
    {
      "cell_type": "code",
      "metadata": {
        "id": "UafRWeLuzK-K",
        "colab": {
          "base_uri": "https://localhost:8080/"
        },
        "outputId": "8eaa102a-5855-493f-9721-e08fecad7735"
      },
      "source": [
        " gcd=lambda a,b: a if b==0 else gcd(a,a%b)\n",
        "lcm=lambda a,b: (a*b)/gcd(a,b)\n",
        " \n",
        "x=4\n",
        "y=24\n",
        "print(\"gcd=\",gcd(x,y))\n",
        "print(\"lcm=\",lcm(x,y))"
      ],
      "execution_count": null,
      "outputs": [
        {
          "output_type": "stream",
          "name": "stdout",
          "text": [
            "gcd= 4\n",
            "lcm= 24.0\n"
          ]
        }
      ]
    },
    {
      "cell_type": "markdown",
      "metadata": {
        "id": "bErKCmSJCsFj"
      },
      "source": [
        " Exercise 11: Multi-D Lists\n",
        " \n",
        "a)Write a program that defines a matrix and prints."
      ]
    },
    {
      "cell_type": "markdown",
      "metadata": {
        "id": "KfZ8TiVbLjrC"
      },
      "source": [
        "Aim- To Write a program that defines a matrix and prints."
      ]
    },
    {
      "cell_type": "markdown",
      "metadata": {
        "id": "CHHJV03pLqVo"
      },
      "source": [
        " DESCRIPTION:\n",
        "Lists are a very widely use data structure in python. They contain a list of elements separated by \n",
        "comma. But sometimes lists can also contain lists within them. These are called nested lists or \n",
        "multidimensional lists. In this article we will see how to create and access elements in a\n",
        "multidimensional list.\n",
        "Methods on Multidimensional lists\n",
        "1. append(): Adds an element at the end of the list.\n",
        "2. extend(): Add the elements of a list (or any iterable), to the end of the current list.\n",
        "3. reverse(): Reverses the order of the list."
      ]
    },
    {
      "cell_type": "code",
      "metadata": {
        "id": "5cvf9bEWFCwE",
        "colab": {
          "base_uri": "https://localhost:8080/"
        },
        "outputId": "c5e7a951-b9f2-42d8-df7f-8fc4557c8728"
      },
      "source": [
        " matA=[[]]\n",
        "rows=int(input(\"Enter row size of matrix: \"))\n",
        "cols=int(input(\"Enter column size of matrix: \"))\n",
        "matA=[[int(input(\"Enter[%d,%d] value: \"%(i,j)))for j in range(cols)]for i in range(rows)]\n",
        "print(\"matrix is: \")\n",
        "for i in range(rows):\n",
        "  for j in range(cols):\n",
        "    print(matA[i][j],end='\\t')\n",
        "  print()"
      ],
      "execution_count": null,
      "outputs": [
        {
          "output_type": "stream",
          "name": "stdout",
          "text": [
            "Enter row size of matrix: 2\n",
            "Enter column size of matrix: 2\n",
            "Enter[0,0] value: 1\n",
            "Enter[0,1] value: 4\n",
            "Enter[1,0] value: 8\n",
            "Enter[1,1] value: 2\n",
            "matrix is: \n",
            "1\t4\t\n",
            "8\t2\t\n"
          ]
        }
      ]
    },
    {
      "cell_type": "markdown",
      "metadata": {
        "id": "VKW2GYy3Lz75"
      },
      "source": [
        " b) write a program to perform addition of two square matrices"
      ]
    },
    {
      "cell_type": "markdown",
      "metadata": {
        "id": "PibF9K2-L0_b"
      },
      "source": [
        "Aim-To write a program to perform addition of two square matrices"
      ]
    },
    {
      "cell_type": "markdown",
      "metadata": {
        "id": "YdXf5VKRL8uz"
      },
      "source": [
        " DESCRIPTION:\n",
        "We can perform matrix addition in following ways in Python.\n",
        "1. Using for loop:\n",
        "Explanation :- In this program we have used nested for loops to iterate through each row and \n",
        "each column. At each point we add the corresponding elements in the two matrices and store it \n",
        "in the result.\n",
        "2. Using nested list comprehension :\n",
        "In Python, we can implement a matrix as nested list (list inside a list). We can treat each \n",
        "element as a row of the matrix.\n",
        "Explanation :-\n",
        "The output of this program is the same as above. We have used nested list comprehension to\n",
        "iterate through each element in the matrix. List comprehension allows us to write concise codes \n",
        "and we must try to use them frequently in Python. They are very helpfu"
      ]
    },
    {
      "cell_type": "code",
      "metadata": {
        "colab": {
          "base_uri": "https://localhost:8080/"
        },
        "id": "-BTLC9LTFzF6",
        "outputId": "cf14f96e-a33f-43cc-ed88-db6a9b10490a"
      },
      "source": [
        " def matRead(r,c):\n",
        "  return[[int(input(\"[%d,%d]value:\"%(i,j)))for j in range(c)]for i in range(r)]\n",
        "def matDisp(mat,r,c):\n",
        "  for i in range(r):\n",
        "    for j in range(c):\n",
        "      print(mat[i][j],end='\\t')\n",
        "    print()\n",
        "matA=[[]]\n",
        "matB=[[]]       \n",
        "matSum=[[]]\n",
        "rows=int(input(\"Enter row size of the matrix: \"))\n",
        "cols=int(input(\"Enter column size of the matrix: \"))\n",
        "if rows==cols:\n",
        "  print(\"Enter Matrix-A elements: \")\n",
        "  matA=matRead(rows,cols)\n",
        " \n",
        "  print(\"Enter Matrix-B elements: \")\n",
        "  matB=matRead(rows,cols)\n",
        " \n",
        "  print(\"Matrix-A is: \")\n",
        "  matDisp(matA,rows,cols)\n",
        " \n",
        "  print(\"Matrix-B is: \")\n",
        "  matDisp(matB,rows,cols)\n",
        "  matSum=[[matA[i][j]+matB[i][j]for j in range(cols)]for i in range(rows)]\n",
        "  print(\"sum of matrices is: \")\n",
        "  matDisp(matSum,rows,cols)\n",
        "else:\n",
        "  print(\"Matrices addition is not possible\")"
      ],
      "execution_count": null,
      "outputs": [
        {
          "output_type": "stream",
          "text": [
            "Enter row size of the matrix: 2\n",
            "Enter column size of the matrix: 2\n",
            "Enter Matrix-A elements: \n",
            "[0,0]value:2\n",
            "[0,1]value:4\n",
            "[1,0]value:1\n",
            "[1,1]value:3\n",
            "Enter Matrix-B elements: \n",
            "[0,0]value:5\n",
            "[0,1]value:3\n",
            "[1,0]value:6\n",
            "[1,1]value:2\n",
            "Matrix-A is: \n",
            "2\t4\t\n",
            "1\t3\t\n",
            "Matrix-B is: \n",
            "5\t3\t\n",
            "6\t2\t\n",
            "sum of matrices is: \n",
            "7\t7\t\n",
            "7\t5\t\n"
          ],
          "name": "stdout"
        }
      ]
    },
    {
      "cell_type": "markdown",
      "metadata": {
        "id": "_RtDimfUO6gM"
      },
      "source": [
        " c) write a program to perform multiplication of two square matrices"
      ]
    },
    {
      "cell_type": "markdown",
      "metadata": {
        "id": "BIj8zR8BO7mO"
      },
      "source": [
        "Aim-To write a program to perform multiplication of two square matrices"
      ]
    },
    {
      "cell_type": "markdown",
      "metadata": {
        "id": "NxGbH6qKPCtX"
      },
      "source": [
        " DESCRIPTION:\n",
        "In Python, we can implement a matrix as nested list (list inside a list). \n",
        "We can treat each element as a row of the matrix.\n",
        "For example X = [[1, 2], [4, 5], [3, 6]] would represent a 3x2 matrix.\n",
        "The first row can be selected as X[0]. And, the element in first row, first column can be selected \n",
        "as X[0][0].\n",
        "Multiplication of two matrices X and Y is defined only if the number of columns in X is equal to \n",
        "the number of rows Y.\n",
        "If X is a n x m matrix and Y is a m x l matrix then, XY is defined and has the dimension n x l (but \n",
        "YX is not defined). Here are a couple of ways to implement matrix multiplication in Python"
      ]
    },
    {
      "cell_type": "code",
      "metadata": {
        "colab": {
          "base_uri": "https://localhost:8080/"
        },
        "id": "_0JUhfDfo1Ip",
        "outputId": "9784a5cf-c858-4167-b136-4a8bf393582f"
      },
      "source": [
        " def  matRead(r,c):  \n",
        "  return[[int(input(\"[%d,%d]value: \"%(i,j)))for j in range(c)]for i in range(r)]\n",
        "def matDisp(mat,r,c):\n",
        "  for i in range(r):\n",
        "    for j in range(c):\n",
        "      print(mat[i][j],end='\\t')\n",
        "matA=[[]]\n",
        "matB=[[]]\n",
        "matMul=[[]]\n",
        "rows=int(input(\"Enter row size of the Matrix: \"))\n",
        "cols=int(input(\"Enter column size of the Matrix: \"))\n",
        " \n",
        "if rows==cols:\n",
        "  print(\"Enter Matrix-A: \")\n",
        "  matA=matRead(rows,cols)\n",
        "  print(\" Enter Matrix-B: \")\n",
        "  matB=matRead(rows,cols)\n",
        " \n",
        "  matMul=[[0 for j in range(cols)]for i in range(rows)]\n",
        "  for i in range(rows):\n",
        "    for j in range(cols):\n",
        "      for k in range(cols):\n",
        "        matMul[i][j]+=matA[i][k]*matB[k][j]\n",
        "  print(\"Matrix-A is: \")\n",
        "  matDisp(matA,rows,cols)\n",
        " \n",
        "  print(\"Matrix-B is: \")\n",
        "  matDisp(matB,rows,cols)\n",
        " \n",
        "  print(\"Multiplication of matrices is: \")\n",
        "  matDisp(matMul,rows,cols)\n",
        "else:\n",
        "  print(\"Matrices Multiplication is not possible is\")"
      ],
      "execution_count": null,
      "outputs": [
        {
          "output_type": "stream",
          "text": [
            "Enter row size of the Matrix: 2\n",
            "Enter column size of the Matrix: 2\n",
            "Enter Matrix-A: \n",
            "[0,0]value: 4\n",
            "[0,1]value: 3\n",
            "[1,0]value: 1\n",
            "[1,1]value: 2\n",
            " Enter Matrix-B: \n",
            "[0,0]value: 7\n",
            "[0,1]value: 2\n",
            "[1,0]value: 5\n",
            "[1,1]value: 4\n",
            "Matrix-A is: \n",
            "4\t3\t1\t2\tMatrix-B is: \n",
            "7\t2\t5\t4\tMultiplication of matrices is: \n",
            "43\t20\t17\t10\t"
          ],
          "name": "stdout"
        }
      ]
    },
    {
      "cell_type": "markdown",
      "metadata": {
        "id": "8N-xpeYw0Rc7"
      },
      "source": [
        " Exercise 12-Modules\n",
        " \n",
        "a) Install package requests,flasks and explore them.using(pip)"
      ]
    },
    {
      "cell_type": "markdown",
      "metadata": {
        "id": "k3ImU1UePKEv"
      },
      "source": [
        "Aim-To Install package requests,flasks and explore them.using(pip)"
      ]
    },
    {
      "cell_type": "markdown",
      "metadata": {
        "id": "AnUYTAiXPQG2"
      },
      "source": [
        " Description \n",
        " \n",
        "Installing the pip Python package manager on Windows If you are on Windows, and your\n",
        "installed Python the current version, you already have pip! If your Python installation is not the \n",
        "most recent, the easiest thing to do is to simply reinstall it. Download the Python Windows\n",
        "installer at https://www.python.org/downloads/.\n",
        "In Windows, the variable that controls which programs are accessible from the command line is \n",
        "path. To modify your path to include Python and pip, we have to add C:\\Python27 and\n",
        "C:\\Python27\\Tools. Edit the Windows path by opening the Windows menu, right-clicking \n",
        "on Computer and clicking on Properties. Under Advanced system settings, click \n",
        "Environment Variables. Scroll down until you find Path, double-click it, and add\n",
        ";C:\\Python27;C:\\Python27\\Tools to the end.\n",
        "Installing packages:\n",
        "Suppose you want to install a package called requests (which is used to make HTTP requests). \n",
        "You need to issue the following command.\n",
        "pip install requests\n",
        "show installed packages\n",
        "You can use the following command to get information about a installed package, i.e Package \n",
        "name, version, location, dependencies.\n",
        "pip show package_name\n",
        "install flask\n",
        "On Mac and Linux, because you are installing programs outside the user-owned folders, you\n",
        "might have to prepend sudo to the install commands. To install Flask, simply run this:\n",
        "$ pip install flask\n",
        "show installed flask\n",
        "You can use the following command to get information about a installed flask, i.e Package \n",
        "name, version, location, dependencies\n",
        "$ pip show flask"
      ]
    },
    {
      "cell_type": "code",
      "metadata": {
        "id": "sJB6MGq0QG7H"
      },
      "source": [
        " \n",
        "The requests and flask packages are downloaded from internet using the following commands. \n",
        "c:\\phython3.9\\scripts>pip install requests\n",
        "c:\\phython3.9\\scripts>pip show requests \n",
        "c:\\phython3.9\\scripts>pip install flask\n",
        "c:\\phython3.9\\scripts>pip show flask"
      ],
      "execution_count": null,
      "outputs": []
    },
    {
      "cell_type": "markdown",
      "metadata": {
        "id": "N2rh_mFCQO_G"
      },
      "source": [
        " b) write a script that imports requests and fetch content from the page.Eg(wiki)"
      ]
    },
    {
      "cell_type": "markdown",
      "metadata": {
        "id": "_HX1i7dWQQDK"
      },
      "source": [
        "Aim- To write a script that imports requests and fetch content from the page.Eg(wiki)"
      ]
    },
    {
      "cell_type": "markdown",
      "metadata": {
        "id": "TGFvV7HcQUsv"
      },
      "source": [
        " DESCRIPTION:\n",
        "The Hypertext Transfer Protocol (HTTP) is an application protocol for distributed, collaborative, \n",
        "hypermedia information systems. HTTP is the foundation of data communication for the World \n",
        "Wide Web.\n",
        "Python requests\n",
        "Requests is a simple and elegant Python HTTP library. It provides methods for accessing Web \n",
        "resources via HTTP.\n",
        "Python requests reading a web page\n",
        "The get() method issues a GET request; it fetches documents identified by the given URL."
      ]
    },
    {
      "cell_type": "code",
      "metadata": {
        "id": "j0vh_PurQrQR"
      },
      "source": [
        " \n",
        "import requests \n",
        "r=requests.get('https://www.google.com') \n",
        "print(\"Statuscode: \",r.status_code)\n",
        "print(\"Header Content: \",r.headers['content-type']) \n",
        "print(r.text)\n",
        "Statuscode: 200\n",
        "Header Content: text/html; charset=ISO-8859-1\n",
        "<!doctype html><html itemscope=\"\" itemtype=\"http://schema.org/WebPage\" lang=\"en\"><head><meta content=\"Se\n",
        "var f=this||self;var h,k=[];function l(a){for(var b;a&&(!a.getAttribute||!(b=a.getAttribute(\"eid\")));)a=a.parentNode;r \n",
        "function n(a,b,c,d,g){var e=\"\";c||-1!==b.search(\"&ei=\")||(e=\"&ei=\"+l(d),-1===b.search(\"&lei=\")&&(d=m(d))&&(e \n",
        "google.y={};google.sy=[];google.x=function(a,b){if(a)var c=a.id;else{do c=Math.random();while(google.y[c])}goo \n",
        "document.documentElement.addEventListener(\"submit\",function(b){var a;if(a=b.target){var c=a.getAttribute(\"data\n",
        "</style><style>body,td,a,p,.h{font-family:arial,sans-serif}body{margin:0;overflow-y:scroll}#gog{padding:3px 8px \n",
        "if (!iesg){document.f&&document.f.q.focus();document.gbqf&&document.gbqf.q.focus();}\n",
        "}\n",
        "})();</script><div id=\"mngb\"><div id=gbar><nobr><b class=gb1>Search</b> <a class=gb1 href=\"https://www.go\n",
        "else top.location='/doodles/';};})();</script><input value=\"AINFCbYAAAAAYPUQyJatbO4L0hb9Ex1g8iExanOV\n",
        "var a,b=\"1\";if(document&&document.getElementById)if(\"undefined\"!=typeof XMLHttpRequest)b=\"2\";else if(\"un \n",
        "var a=window.innerWidth,b=window.innerHeight;if(!a||!b){var c=window.document,d=\"CSS1Compat\"==c.compat \n",
        "var e=this||self,f=function(a){return a};var g;var l=function(a,b){this.g=b===h?a:\"\"};l.prototype.toString=function( \n",
        "function n(a){google.timers&&google.timers.load&&google.tick&&google.tick(\"load\",\"xjsls\");var b=document;va \n",
        "function _F_installCss(c){} \n",
        "(function(){google.jl={attn:false,blt:'none',chnk:0,dw:false,emtn:0,end:0,ine:false,lls:'default',pdt:0,rep:0,snet:true,s"
      ],
      "execution_count": null,
      "outputs": []
    },
    {
      "cell_type": "markdown",
      "metadata": {
        "id": "FN9RTQ2xRNPp"
      },
      "source": [
        " c) Write a simple script that serves a simple HTTPResponse and Simple HTML page"
      ]
    },
    {
      "cell_type": "markdown",
      "metadata": {
        "id": "XKe7T1KIRO21"
      },
      "source": [
        "Aim-To Write a simple script that serves a simple HTTPResponse and Simple HTML page"
      ]
    },
    {
      "cell_type": "markdown",
      "metadata": {
        "id": "VvnTda3-RhC6"
      },
      "source": [
        " DESCRIPTION:\n",
        "HTTP Protocol\n",
        "The most important part of a web server is HTTP protocol.So now we will see what exactly this \n",
        "is –\n",
        "It stands for Hyper Text Transfer Protocol.\n",
        "It is an application layer protocol that allows web based applications to communicate and \n",
        "exchange data.\n",
        "The HTTP is the messenger of web.\n",
        "The computer that communicate via the HTTP must speak the HTTP protocol. \n",
        "It is a TCP/IP based protocol.\n",
        "It is used to deliver contents, for eg. images, audios, videos, documents etc.\n",
        "Using HTTP is the most convenient way to quickly and reliably move data on the web.\n",
        "HTML stands for hypertext markup language. It is the standard markup language for web pages \n",
        "that define the structure of the content. These elements are the building blocks of any website"
      ]
    },
    {
      "cell_type": "code",
      "metadata": {
        "id": "JDrxnx0CR9Og"
      },
      "source": [
        " \n",
        "from flask import Flask,render_template \n",
        "app=Flask( name )\n",
        "print(app) \n",
        "@app.route(\"/\")\n",
        "def main():\n",
        "return render_template('abc.html')\n",
        "if name ==\" main \": \n",
        "app.run(host=\"127.0.0.1\",port=2500)\n",
        "<Flask ' main '>\n",
        "* Serving Flask app \" main \" (lazy loading)\n",
        "* Environment: production\n",
        "WARNING: This is a development server. Do not use it in a production deployment. \n",
        "Use a production WSGI server instead.\n",
        "* Debug mode: off\n",
        "* Running on http://127.0.0.1:2500/ (Press CTRL+C to quit)"
      ],
      "execution_count": null,
      "outputs": []
    },
    {
      "cell_type": "markdown",
      "metadata": {
        "id": "FreiV_u420js"
      },
      "source": [
        " Exercise 13- OOP\n",
        " \n",
        "a)Class variables and instance variables and illsustration of the self variable\n",
        "\n",
        "1)Robot"
      ]
    },
    {
      "cell_type": "markdown",
      "metadata": {
        "id": "LW1xvOP_SHdF"
      },
      "source": [
        "Aim-To Class variables and instance variables and illsustration of the self variable"
      ]
    },
    {
      "cell_type": "markdown",
      "metadata": {
        "id": "LwzauPLJSNiY"
      },
      "source": [
        " DESCRIPTION:\n",
        "Variables are named storage location. In python variables are not defined by its type instead it \n",
        "will be automatically determined by the value assigned to it. To determine the type of a variable \n",
        "a function called type () is used.\n",
        "class variableis shared by all object instances of a class.....They are not defined inside any\n",
        "methods of a class. Because a class variable is shared by instances of a class, the Python class \n",
        "owns the variable. As a result, all instances of the class will be able to access that variable\n",
        "Instance variables are owned by instances of the class. This means that for each object or\n",
        "instance of a class, the instance variables are different..... Instance variables, owned by objects\n",
        "of the class, allow for each object or instance to have different values assigned to those \n",
        "variables\n",
        "self variable is used to bind the instance of the class to the instance method. We have to \n",
        "explicitly declare it as the first method argument to access the instance variables and methods. \n",
        "This variable is used only with the instance methods."
      ]
    },
    {
      "cell_type": "code",
      "metadata": {
        "colab": {
          "base_uri": "https://localhost:8080/"
        },
        "id": "SB1A-U3OpQFI",
        "outputId": "ba7ff655-9581-4b1e-9072-8a269ae1a478"
      },
      "source": [
        " class Robot:\n",
        "    what=\"Machine\"\n",
        "    name=\"Chitti\"\n",
        "    version=1.0\n",
        "    speed=\"1THz\"\n",
        "    memory=\"1ZB\"\n",
        " \n",
        "    def update(upd):\n",
        "        upd.version=2.0\n",
        "        upd.speed=\"2THz\"\n",
        "        upd.memory=\"2ZB\"\n",
        " \n",
        "    def disp(self):\n",
        "        print(\"Myself is a\",robj.what)\n",
        "        print(\"MyName is a\",robj.name)\n",
        "        print(\"Version :\",robj.version)\n",
        "        print(\"Speed : \",robj.speed)\n",
        "        print(\"Memory: \",robj.memory)\n",
        " \n",
        "robj=Robot()\n",
        "robj.disp()\n",
        " \n",
        "print(\"---------------Update---------\")\n",
        "robj.update()\n",
        "robj.disp()"
      ],
      "execution_count": null,
      "outputs": [
        {
          "output_type": "stream",
          "text": [
            "Myself is a Machine\n",
            "MyName is a Chitti\n",
            "Version : 1.0\n",
            "Speed :  1THz\n",
            "Memory:  1ZB\n",
            "---------------Update---------\n",
            "Myself is a Machine\n",
            "MyName is a Chitti\n",
            "Version : 2.0\n",
            "Speed :  2THz\n",
            "Memory:  2ZB\n"
          ],
          "name": "stdout"
        }
      ]
    },
    {
      "cell_type": "markdown",
      "metadata": {
        "id": "6qc6bqI2pcNJ"
      },
      "source": [
        "2)ATM Machine"
      ]
    },
    {
      "cell_type": "code",
      "metadata": {
        "id": "0URrTMVIpiJ3"
      },
      "source": [
        " class ATM:\n",
        "    def __init__(self):\n",
        "        self.balance=0\n",
        "        print(\"New Account\")\n",
        "        \n",
        "    def enquire(self):\n",
        "        print(\"Balance: \",self.balance)\n",
        "        \n",
        "    def deposit(self):\n",
        "        amount=int(input(\"Enter the Deposit Amount:\"))\n",
        "        self.balance+=amount\n",
        "        self.enquire()\n",
        " \n",
        "    def withdraw(self):\n",
        "        amount=int(input(\"Enter the Withdraw Amount: \"))\n",
        "        if self.balance<amount:\n",
        "            print(\"Insufficient Balance.....!\")\n",
        "        else:\n",
        "            self.balance-=amount\n",
        "            self.enquire()\n",
        " \n",
        "aobj=ATM()\n",
        "while(True):\n",
        "    print(\"*****Menu****\")\n",
        "    print(\"1.Deposit\")\n",
        "    print(\"2.Withdarw\")\n",
        "    print(\"3.Balance\")\n",
        "    print(\"0.Exit\")\n",
        "    ch=int(input(\"Enter Your Choice: \"))\n",
        "    if ch==0:\n",
        "        break\n",
        "    elif ch==1:\n",
        "        aobj.deposit()\n",
        "    elif ch==2:\n",
        "        aobj.withdraw()\n",
        "    elif ch==3:\n",
        "        aobj.enquire()\n",
        "    else:\n",
        "        print(\"Invalid choice:\")\n",
        "        pass"
      ],
      "execution_count": null,
      "outputs": []
    },
    {
      "cell_type": "code",
      "metadata": {
        "id": "OiCKVpHYqmma"
      },
      "source": [
        " New Account\n",
        "*****Menu****\n",
        "1.Deposit\n",
        "2.Withdarw\n",
        "3.Balance\n",
        "0.Exit\n",
        "Enter Your Choice: 1\n",
        "Enter the Deposit Amount:3000\n",
        "Balance:  3000\n",
        "*****Menu****\n",
        "1.Deposit\n",
        "2.Withdarw\n",
        "3.Balance\n",
        "0.Exit\n",
        "Enter Your Choice: 2\n",
        "Enter the Withdraw Amount: 1000\n",
        "Balance:  2000\n",
        "*****Menu****\n",
        "1.Deposit\n",
        "2.Withdarw\n",
        "3.Balance\n",
        "0.Exit\n",
        "Enter Your Choice: 3\n",
        "Balance:  2000\n",
        "*****Menu****\n",
        "1.Deposit\n",
        "2.Withdarw\n",
        "3.Balance\n",
        "0.Exit\n",
        "Enter Your Choice: 4\n",
        "Invalid choice:\n",
        "*****Menu****\n",
        "1.Deposit\n",
        "2.Withdarw\n",
        "3.Balance\n",
        "0.Exit\n",
        "Enter Your Choice: 0"
      ],
      "execution_count": null,
      "outputs": []
    },
    {
      "cell_type": "markdown",
      "metadata": {
        "id": "YVE4SWFxqvsl"
      },
      "source": [
        " Exercise14:GUI,Graphics\n",
        " \n",
        "A)Write a GUI for an Expression Calculator using tk."
      ]
    },
    {
      "cell_type": "markdown",
      "metadata": {
        "id": "hRt3ze7-SYVq"
      },
      "source": [
        "Aim-To Write a GUI for an Expression Calculator using tk."
      ]
    },
    {
      "cell_type": "markdown",
      "metadata": {
        "id": "ylbro1QTSbkT"
      },
      "source": [
        " DESCRIPTION:\n",
        "Tkinter is a Python package which comes with many functions and methods that can be used to \n",
        "create an application. In order to create a tkinter application, we generally create an instance of \n",
        "tkinter frame, i.e., Tk(). It helps to display the root window and manages all the other \n",
        "components of the tkinter application. We can initialize the tkinter instance by assigning the \n",
        "variable to it."
      ]
    },
    {
      "cell_type": "code",
      "metadata": {
        "id": "oi-FFGPhqzvD"
      },
      "source": [
        " import turtle\n",
        "c=[\"red\",\"green\",\"blue\"]\n",
        "i=0\n",
        "turtle.pensize(5)\n",
        " \n",
        "for angle in range(0,360,30):\n",
        "    if i>2:\n",
        "        i=0\n",
        "    turtle.color(c[i])\n",
        "    turtle.seth(angle)\n",
        "    turtle.circle(50)\n",
        "    i+=1"
      ],
      "execution_count": null,
      "outputs": []
    },
    {
      "cell_type": "markdown",
      "metadata": {
        "id": "gOxU0_puSvzo"
      },
      "source": [
        "B)Write a program to implement the following figures using turtle"
      ]
    },
    {
      "cell_type": "markdown",
      "metadata": {
        "id": "dHDNZTFGSxFV"
      },
      "source": [
        "Aim-To Write a program to implement the following figures using turtle"
      ]
    },
    {
      "cell_type": "markdown",
      "metadata": {
        "id": "OKRv_UibS5Sb"
      },
      "source": [
        " DESCRIPTION:\n",
        "Tkinter is a Python package which comes with many functions and methods that can be used to \n",
        "create an application. In order to create a tkinter application, we generally create an instance of \n",
        "tkinter frame, i.e., Tk(). It helps to display the root window and manages all the other \n",
        "components of the tkinter application. We can initialize the tkinter instance by assigning the \n",
        "variable to it."
      ]
    },
    {
      "cell_type": "code",
      "metadata": {
        "id": "JhI2sSMvq3rM"
      },
      "source": [
        " import turtle\n",
        "turtle.pensize(1)\n",
        " \n",
        "for i in range(36):\n",
        "    for j in range(4):\n",
        "        turtle.forward(70)\n",
        "        turtle.left(90)\n",
        "    turtle.left(10)"
      ],
      "execution_count": null,
      "outputs": []
    },
    {
      "cell_type": "markdown",
      "metadata": {
        "id": "WWD0iYNGq8c5"
      },
      "source": [
        " Exercise 15: Testing\n",
        " \n",
        "a)Write a test case to check the function even numbers which return true on passing a list of all even numbers."
      ]
    },
    {
      "cell_type": "markdown",
      "metadata": {
        "id": "yso2beIzS_a6"
      },
      "source": [
        "Aim-To Write a test case to check the function even numbers which return true on passing a list of all even numbers."
      ]
    },
    {
      "cell_type": "markdown",
      "metadata": {
        "id": "MVlV1PvuTD2S"
      },
      "source": [
        " DESCRIPTION:\n",
        "TestCase is used to create test cases by subclassing it. The last block of the code at the bottom \n",
        "allows us to run all the tests just by running the file. Basic terms used in the code : assertEqual()\n",
        "– This statement is used to check if the result obtained is equal to the expected result\n",
        "test case:\n",
        "A test case is a set of conditions which is used to determine whether a system under test works \n",
        "correctly."
      ]
    },
    {
      "cell_type": "code",
      "metadata": {
        "id": "wwScmqTarFUw",
        "colab": {
          "base_uri": "https://localhost:8080/"
        },
        "outputId": "170d9b28-7017-4b9e-9d5f-24662a44c542"
      },
      "source": [
        " def evnNo(num):\n",
        "    stat=True\n",
        " \n",
        "    for i in num:\n",
        "        if i%2 ==1:\n",
        "            stat=False\n",
        "            break\n",
        "    return stat\n",
        "        \n",
        "numbers=[]\n",
        "for i in range(0,2):\n",
        "    numbers.append(int(input(\"Enter a value\")))\n",
        "print(evnNo(numbers))"
      ],
      "execution_count": null,
      "outputs": [
        {
          "output_type": "stream",
          "text": [
            "Enter a value2\n",
            "Enter a value8\n",
            "True\n"
          ],
          "name": "stdout"
        }
      ]
    },
    {
      "cell_type": "markdown",
      "metadata": {
        "id": "F4vVAtLqTbdF"
      },
      "source": [
        " b) Write a test-case to check the function reverse string which returns the reversed string"
      ]
    },
    {
      "cell_type": "markdown",
      "metadata": {
        "id": "hMFAw-K8Tc9Z"
      },
      "source": [
        "Aim-To Write a test-case to check the function reverse string which returns the reversed string"
      ]
    },
    {
      "cell_type": "markdown",
      "metadata": {
        "id": "FAVoMSN1TzgU"
      },
      "source": [
        " DESCRIPTION:\n",
        "Python string library does’nt support the in-built “reverse()” as done by other python containers \n",
        "like list, hence knowing other methods to reverse string can prove to be useful. This article\n",
        "discusses several ways to achieve it.\n",
        "The reversed() returns the reversed iterator of the given string and then its elements are joined\n",
        "empty string separated using join(). And reversed order string is formed"
      ]
    },
    {
      "cell_type": "code",
      "metadata": {
        "id": "G-m2jomhrPOx"
      },
      "source": [
        " def rev_str(st):\n",
        "    return st[::-1]\n",
        " \n",
        "st=\"swarnandhra\"\n",
        "print(\"Given String is: \",st)\n",
        " \n",
        "print(\"Reverse is: \",rev_str(st))"
      ],
      "execution_count": null,
      "outputs": []
    },
    {
      "cell_type": "code",
      "metadata": {
        "id": "tHmalFQ1rU-K"
      },
      "source": [
        " Given String is:  swarnandhra\n",
        "Reverse is:  arhdnanraws"
      ],
      "execution_count": null,
      "outputs": []
    },
    {
      "cell_type": "markdown",
      "metadata": {
        "id": "laqswBNK3MUp"
      },
      "source": [
        " Exercise - 16 - Advanced\n",
        " \n",
        "a) Build any one classical data structure."
      ]
    },
    {
      "cell_type": "markdown",
      "metadata": {
        "id": "rHx-geVLTnAB"
      },
      "source": [
        "Aim-To Build any one classical data structure."
      ]
    },
    {
      "cell_type": "markdown",
      "metadata": {
        "id": "BZr3NpE_TwcY"
      },
      "source": [
        " DESCRIPTION:\n",
        "What is a Data Structure?\n",
        "Organizing, managing and storing data is important as it enables easier access and eficient\n",
        "modifications. Data Structures allows you to organize your data in such a way that enables you \n",
        "to store collections of data, relate them and perform operations on them accordingly.\n",
        "Stack Stacks are linear Data Structures which are based on the principle of Last-In-First-Out\n",
        "(LIFO) where data which is entered last will be the first to get accessed. It is built using the array \n",
        "structure and has operations namely, pushing (adding) elements, popping (deleting) elements \n",
        "and accessing elements only from one point in the stack called as the TOP. This TOP is the \n",
        "pointer to the current position of the stack. Stacks are prominently used in applications such as \n",
        "Recursive Programming, reversing words, undo mechanisms in word editors and so forth."
      ]
    },
    {
      "cell_type": "code",
      "metadata": {
        "id": "WTZFYs3i3Xsd"
      },
      "source": [
        " import sys\n",
        "a=[]\n",
        "while True: \n",
        "print(\"\\n1.PUSH 2.POP 3.DISPLAY 4.EXIT\")\n",
        " ch=int(input(\"Enter Your Choice: \"))\n",
        "if ch==1:\n",
        "    ele=int(input(\"Enter element: \"))\n",
        "    a.append(ele)\n",
        "    print (\"Inserted\") \n",
        "elif ch==2:\n",
        "  if len(a)==0: \n",
        "     print(\"\\t STACK IS EMPTY\")\n",
        "  else:\n",
        "     print(\"Deleted element is: \", a[len(a)-1])\n",
        "     a.remove (a[len(a)-1])\n",
        "elif ch==3:\n",
        "  if len(a)==0:\n",
        "     print(\"\\t STACK IS EMPTY\")\n",
        "  else:\n",
        "     print(\"\\tThe Elements in Stack is: \") \n",
        "     for i in reversed(a):\n",
        "       print(i)\n",
        "elif ch==4: \n",
        "   sys.exit()\n",
        "else: \n",
        "   print(\"\\tINVALID CHOICE\")"
      ],
      "execution_count": null,
      "outputs": []
    },
    {
      "cell_type": "markdown",
      "metadata": {
        "id": "-M_D0nrTUqWH"
      },
      "source": [
        " b) Write a program to solve knapsack problem"
      ]
    },
    {
      "cell_type": "markdown",
      "metadata": {
        "id": "pZDfOetVUtum"
      },
      "source": [
        "Aim-To Write a program to solve knapsack problem"
      ]
    },
    {
      "cell_type": "markdown",
      "metadata": {
        "id": "h_Q1jSD5Uxpo"
      },
      "source": [
        " DESCRIPTION:\n",
        "Python Program for 0-1 Knapsack Problem\n",
        "Problem statement − We are given weights and values of n items, we need to put these items in \n",
        "a bag of capacity W up to the maximum capacity w. We need to carry a maximum number of\n",
        "items and return its \n",
        "value. Brute\n",
        "-force \n",
        "approach.\n",
        "dynamic approach."
      ]
    },
    {
      "cell_type": "code",
      "metadata": {
        "id": "SVtKdIeqV9DA"
      },
      "source": [
        " \n",
        "def knapSack(W,wt,val,n):\n",
        " K=[[0 for x in range(W+1)] for x in range(n+1)] \n",
        "for i in range(n+1):\n",
        " for w in range(W+1): \n",
        "  if i==0 or w==0:\n",
        "    K[i][w]=0\n",
        "  elif wt[i-1]<=w:\n",
        "     K[i][w]=max(val[i-1]+k[i-1][w-wt[i-1]],k[i-1][w])\n",
        "  else:\n",
        "    K[i][w]=K[i-1][w]\n",
        " return K[n][W]\n",
        "val=[5,3,4]\n",
        "wt=[3,2,1] \n",
        "W=5\n",
        "n=len(val)\n",
        "print(\"Maximum value knapsack of capacity W: \",knapSack(W,wt,val,n))"
      ],
      "execution_count": null,
      "outputs": []
    },
    {
      "cell_type": "markdown",
      "metadata": {
        "id": "QPV18cMXWHrx"
      },
      "source": [
        " Exercise - 17&18–Data Analysis"
      ]
    },
    {
      "cell_type": "markdown",
      "metadata": {
        "id": "CRbWkMk_WI3R"
      },
      "source": [
        " AIM:\n",
        "1. Data analysis or manipulation using the following packages\n",
        "a) Numpy b) Pandas a) Scipy b) matplotlib"
      ]
    },
    {
      "cell_type": "markdown",
      "metadata": {
        "id": "BruZCRK4WQj3"
      },
      "source": [
        " DESCRIPTION:\n",
        "Learn how to analyze data using Python..... It includes following parts: Data Analysis libraries:\n",
        "will learn to use Pandas, Numpy and Scipy libraries to work with a sample dataset. We will\n",
        "introduce you to pandas, an open-source library, and we will use it to load, manipulate, analyze, \n",
        "and visualize cool datasets.\n",
        "SciPy is a free and open-source Python library used for scientific computing and technical \n",
        "computing. It is a collection of mathematical algorithms and convenience functions built on the \n",
        "NumPy extension of Python\n",
        "NumPy is the fundamental package for scientific computing in Python. ....NumPy arrays\n",
        "facilitate advanced mathematical and other types of operations on large numbers of data.\n",
        "Matplotlib is a plotting library for the Python programming language and its numerical\n",
        "mathematics extension NumPy. It provides an object-oriented API for embedding plots into \n",
        "applications using general-purpose GUI toolkits like Tkinter, wxPython, Qt, or GTK\n",
        "Pandas is an open source Python package that is most widely used for data science/data \n",
        "analysis and machine learning tasks. It is built on top of another package named Numpy, which \n",
        "provides support for multi-dimensional arrays.\n",
        "Scikit-learn is probably the most useful library for machine learning in Python. The sklearn\n",
        "library contains a lot of eficient tools for machine learning and statistical modeling including \n",
        "classification, regression, clustering and dimensionality reduction.\n",
        "Seaborn is a library in Python predominantly used for making statistical graphics. Seaborn is a \n",
        "data visualization library built on top of matplotlib and closely integrated with pandas data \n",
        "structures in Python"
      ]
    },
    {
      "cell_type": "code",
      "metadata": {
        "id": "qJBjV6sHWVMT"
      },
      "source": [
        " \n",
        "#Phython version \n",
        "import sys\n",
        "print('Python: {}'.format(sys.version))\n",
        "#scipy \n",
        "import scipy\n",
        "print('scipy: {}'.format(scipy. version ))\n",
        "#numpy \n",
        "import numpy\n",
        "print('numpy: {}'.format(numpy. version ))\n",
        "#matplotib \n",
        "import matplotlib\n",
        "print('matplotib: {}'.format(matplotlib. version ))\n",
        "#pandas \n",
        "import pandas\n",
        "print('pandas: {}'.format(pandas. version ))\n",
        "#scikit-learn \n",
        "import sklearn\n",
        "print('sklearn: {}'.format(sklearn. version ))\n",
        "#seaborn \n",
        "import seaborn\n",
        "print('seaborn: {}'.format(seaborn. version )) \n",
        "import urllib\n",
        "print('urlib: {}'.format(urllib. name )) \n",
        "import csv\n",
        "print('csv: {}'.format(csv. version ))\n",
        "Python: 3.7.11 (default, Jul 3 2021, 18:01:19)\n",
        "[GCC 7.5.0]\n",
        "scipy: 1.4.1\n",
        "numpy: 1.19.5\n",
        "matplotib: 3.2.2\n",
        "pandas: 1.1.5 \n",
        "sklearn: 0.22.2.post1 \n",
        "seaborn: 0.11.1 \n",
        "urlib: urllib\n",
        "csv: 1.0"
      ],
      "execution_count": null,
      "outputs": []
    },
    {
      "cell_type": "markdown",
      "metadata": {
        "id": "7X0xcqFSW3F5"
      },
      "source": [
        " NumPy"
      ]
    },
    {
      "cell_type": "code",
      "metadata": {
        "id": "UpCixk2YW4k0"
      },
      "source": [
        " \n",
        "import numpy as np \n",
        "a=np.array([0,1,2]) \n",
        "print(type(a)) \n",
        "print(a.shape) \n",
        "print(a[0])\n",
        "print(a[1])\n",
        "print(a[2]) \n",
        "a[0]=5\n",
        "print(a)\n",
        "<class 'numpy.ndarray'> \n",
        "(3,)\n",
        "0\n",
        "1\n",
        "2\n",
        "[5 1 2]\n",
        "import numpy as np \n",
        "b=np.array([[0,1,2],[3,4,5]])\n",
        "print(b.shape) \n",
        "print(b)\n",
        "print(b[0,0],b[0,1],b[1,0])\n",
        "(2, 3)\n",
        "[[0 1 2]\n",
        "[3 4 5]]\n",
        "0 1 3\n",
        "import numpy as np \n",
        "a=np.zeros((3,3)) \n",
        "print(a)\n",
        "[[0. 0. 0.]\n",
        "[0. 0. 0.]\n",
        "[0. 0. 0.]]\n",
        "import numpy as np \n",
        "b=np.ones((2,2)) \n",
        "print(b)\n",
        "[[1. 1.]\n",
        "[1. 1.]]\n",
        "import numpy as np \n",
        "c=np.full((3,3),7) \n",
        "print(c)\n",
        "[[7 7 7]\n",
        "[7 7 7]\n",
        "[7 7 7]]\n",
        "import numpy as np \n",
        "d=np.random.random((3,3)) \n",
        "print(d)\n",
        "[[0.81016965 0.93708625 0.64555727]\n",
        "[0.69457725 0.87169481 0.89364639]\n",
        "[0.10066267 0.41921179 0.16202094]]\n",
        "import numpy as np \n",
        "e=np.eye(3) \n",
        "print(e)\n",
        "[[1. 0. 0.]\n",
        "[0. 1. 0.]\n",
        "[0. 0. 1.]]\n",
        "import numpy as np\n",
        "f=np.array([2,3,1,0]) \n",
        "print(f)\n",
        "[2 3 1 0]\n",
        "import numpy as np \n",
        "g=np.arange(2,10) \n",
        "print(g)\n",
        "[2 3 4 5 6 7 8 9]\n",
        "import numpy as np \n",
        "h=np.array([[0,1,2.0],[0,0,0],(1+1j,3.,2.)])\n",
        "print(h)\n",
        "[[0.+0.j 1.+0.j 2.+0.j]\n",
        "[0.+0.j 0.+0.j 0.+0.j]\n",
        "[1.+1.j 3.+0.j 2.+0.j]]\n",
        "import numpy as np \n",
        "i=np.arange(1,8,dtype=np.float) \n",
        "print(i)\n",
        "[1. 2. 3. 4. 5. 6. 7.]\n",
        "import numpy as np \n",
        "j=np.linspace(2.,4., 5) \n",
        "print(j)\n",
        "[2. 2.5 3. 3.5 4. ]\n",
        "import numpy as np \n",
        "k=np.indices((3,3)) \n",
        "print(k)\n",
        "[[[0 0 0]\n",
        "[1 1 1]\n",
        "[2 2 2]]\n",
        "[[0 1 2]\n",
        "[0 1 2]\n",
        "[0 1 2]]]\n",
        "import numpy as np \n",
        "x=np.array([0,1])\n",
        "y=np.array([2.0,3.0]) \n",
        "z=np.array([5,6], dtype=np.int64) \n",
        "print(x.dtype,y.dtype,z.dtype)\n",
        "int64 float64 int64\n",
        "import numpy as np \n",
        "x=np array([5 6 7 8 9]\n",
        "print(x[1:7:2])\n",
        "print(x[-2:5])\n",
        "print(x[-1:1:-1])\n",
        "[6 8]\n",
        "[8 9]\n",
        "[9 8 7]\n",
        "import numpy as np \n",
        "a=np.array([[1,2],[3,4],[5,6]])\n",
        "print(a>2) \n",
        "print(a[a>2])\n",
        "[[False False] \n",
        "[ True True] \n",
        "[ True True]]\n",
        "[3 4 5 6]\n",
        "import numpy as np \n",
        "x=np.array([[1,2],[3,4],[5,6]])\n",
        "y=np.array([[7,8],[9,10],[11,12]])\n",
        "print(x+y) \n",
        "print(np.add(x,y)) \n",
        "print(x-y) \n",
        "print(np.subtract(x,y))\n",
        "[[ 8 10]\n",
        "[12 14]\n",
        "[16 18]]\n",
        "[[ 8 10]\n",
        "[12 14]\n",
        "[16 18]]\n",
        "[[-6 -6]\n",
        "[-6 -6]\n",
        "[-6 -6]]\n",
        "[[-6 -6]\n",
        "[-6 -6]\n",
        "[-6 -6]]\n",
        "import numpy as np \n",
        "x=np.array([[1,2],[3,4],[5,6]])\n",
        "y=np.array([[7,8],[9,10],[11,12]])\n",
        "print(np.multiply(x,y)) \n",
        "print(x*y)\n",
        "[[ 7 16]\n",
        "[27 40]\n",
        "[55 72]]\n",
        "[[ 7 16]\n",
        "[27 40]\n",
        "[55 72]]\n",
        "import numpy as np \n",
        "x=np.array([[1,2],[3,4],[5,6]])\n",
        "y=np.array([[7,8],[9,10],[11,12]])\n",
        "print(np.divide(x,y)) \n",
        "print(x/y)\n",
        "[[0.14285714 0.25\n",
        "]\n",
        "[0.33333333 0.4\n",
        "]\n",
        "[0.45454545 0.5\n",
        "]]\n",
        "[[0.14285714 0.25\n",
        "]\n",
        "[0.33333333 0.4\n",
        "]\n",
        "[0.45454545 0.5\n",
        "]]\n",
        "import numpy as np \n",
        "x=np.array([[1,2],[3,4],[5,6]])\n",
        "print(np.sqrt(x))\n",
        "[[1.\n",
        "1.41421356]\n",
        "[1.73205081 2.\n",
        "]\n",
        "[2.23606798 2.44948974]]\n",
        "import numpy as np \n",
        "a=np.array([9,10])\n",
        "b=np.array([11,12])\n",
        "print(a.dot(b))\n",
        "print(np.dot(a,b))\n",
        "219\n",
        "219\n",
        "import numpy as np \n",
        "a=np.array([9,10]) \n",
        "x=np.array([[1,2],[3,4]]) \n",
        "print(x.dot(a))\n",
        "print(np.dot(x,a))\n",
        "[29 67]\n",
        "[29 67]\n",
        "import numpy as np \n",
        "x=np.array([[1,2],[3,4]])\n",
        "y=np.array([[5,6],[7,8]]) \n",
        "print(x.dot(y))\n",
        "print(np.dot(x,y))\n",
        "[[19 22]\n",
        "[43 50]]\n",
        "[[19 22]\n",
        "[43 50]]\n",
        "import numpy as np \n",
        "x=np.array([[1,2],[3,4]]) \n",
        "print(np.sum(x)) \n",
        "print(np.sum(x,axis=0)) \n",
        "print(np.sum(x,axis=1))\n",
        "10\n",
        "[4 6]\n",
        "[3 7]\n",
        "import numpy as np \n",
        "x=np.array([[1,2],[3,4]]) \n",
        "print(x)\n",
        "print(x.T)\n",
        "[[1 2]\n",
        "[3 4]]\n",
        "[[1 3]\n",
        "[2 4]]\n",
        "import numpy as np \n",
        "v=np.array([1,2,3]) \n",
        "print(v)\n",
        "print(v.T)\n",
        "[1 2 3]\n",
        "[1 2 3]\n",
        "import numpy as np \n",
        "a=np.array([[1,2,3],[4,5,6],[7,8,9]])\n",
        "v=np.array([1,0,1]) \n",
        "b=a+v\n",
        "print(b)\n",
        "[[ 2 2 4]\n",
        "[ 5 5 7]\n",
        "[ 8 8 10]]\n",
        "import numpy as np \n",
        "x=np.array([[1,2,1],[3,4,1]])\n",
        "print(\"X.T:\\n\",x.T)\n",
        "w=np.array([1,1])\n",
        "print(\"W:\\n\",w) \n",
        "print(\"Final :\\n\",(x.T+w).T)\n",
        "X.T:\n",
        "[[1 3]\n",
        "[2 4]\n",
        "[1 1]] \n",
        "W:\n",
        "[1 1]\n",
        "Final : \n",
        "[[2 3 2]\n",
        "[4 5 2]]\n",
        "import numpy as np \n",
        "x=np.array([[1,2,1],[3,4,1]])\n",
        "print(x*2)\n",
        "[[2 4 2]\n",
        "[6 8 2]]\n",
        "import numpy as np \n",
        "np.random.rand(3,2)\n",
        "array([[0.10074037, 0.27068697],\n",
        "[0.48588216, 0.77310637],\n",
        "[0.5907359 , 0.25493591]])\n",
        "import numpy as np \n",
        "np.random.rand(10)\n",
        "array([0.18952105, 0.81924627, 0.98824282, 0.0406113 , 0.81100701,\n",
        "0.24091875, 0.96118339, 0.87948378, 0.96721396, 0.09074509])\n",
        "import random\n",
        "print (random.randint(0,9))\n",
        "8"
      ],
      "execution_count": null,
      "outputs": []
    },
    {
      "cell_type": "markdown",
      "metadata": {
        "id": "yrcp7RHgYC5K"
      },
      "source": [
        " Pandas"
      ]
    },
    {
      "cell_type": "markdown",
      "metadata": {
        "id": "zbDnm5NTYD8l"
      },
      "source": [
        " 1.Creating Series"
      ]
    },
    {
      "cell_type": "code",
      "metadata": {
        "id": "PfpqgLpMYJ7d"
      },
      "source": [
        " \n",
        "import pandas as pd\n",
        "s=pd.Series([1,2,3,4,5],index=['A','B','C','D','E'])\n",
        "s\n",
        "A 1\n",
        "B 2\n",
        "C 3\n",
        "D 4\n",
        "E 5\n",
        "dtype: int64"
      ],
      "execution_count": null,
      "outputs": []
    },
    {
      "cell_type": "markdown",
      "metadata": {
        "id": "LC2s1u0pYNm7"
      },
      "source": [
        " 2.Data Frames"
      ]
    },
    {
      "cell_type": "code",
      "metadata": {
        "id": "AdCsSfCxYO_h"
      },
      "source": [
        " \n",
        " \n",
        " \n",
        "import pandas as pd \n",
        "data={'Gen':['F','M','M'],'EiD':['E01','E02','E03'],'Age':[25,45,38]}\n",
        "df=pd.DataFrame(data,columns=['EiD','Age','Gen']) \n",
        "print(df)\n",
        "EiD Age Gen\n",
        "0 E01 25 F\n",
        "1 E02 45 M\n",
        "2 E03 38 M\n",
        "import pandas as pd\n",
        "from numpy import loadtxt\n",
        "from urllib.request import urlopen \n",
        "url='https://raw.githubusercontent.com/jbrownlee/datasets/master/pima-indians-diabetes.data.csv'\n",
        "raw_data=pd.read_csv(urlopen(url)) \n",
        "raw_data.shape\n",
        "(767, 9)\n",
        "raw_data.head()\n",
        "6 148 72 35\n",
        "0 33.6 0.627 50 1\n",
        "0 1\n",
        "85 66 29\n",
        "0 26.6 0.351 31 0\n",
        "1 8 183 64\n",
        "0\n",
        "0 23.3 0.672 32 1\n",
        "2 1\n",
        "89 66 23\n",
        "94 28.1 0.167 21 0\n",
        "3 0 137 40 35 168 43.1 2.288 33 1\n",
        "4 5 116 74\n",
        "0\n",
        "0 25.6 0.201 30 0\n",
        "raw_data.tail()\n",
        "6 148 72 35\n",
        "0 33.6 0.627 50 1\n",
        "762 10 101 76 48 180 32.9 0.171 63 0\n",
        "763\n",
        "2 122 70 27\n",
        "0 36.8 0.340 27 0\n",
        "764\n",
        "5 121 72 23 112 26.2 0.245 30 0\n",
        "765\n",
        "1 126 60\n",
        "0\n",
        "0 30.1 0.349 47 1\n",
        "766\n",
        "1\n",
        "93 70 31\n",
        "0 30.4 0.315 23 0\n",
        "raw_data.head(25)\n",
        "6 148 72 35\n",
        "0 33.6 0.627 50 1\n",
        "0\n",
        "1\n",
        "85 66 29\n",
        "0 26.6 0.351 31 0\n",
        "1\n",
        "8 183 64\n",
        "0\n",
        "0 23.3 0.672 32 1\n",
        "2\n",
        "1\n",
        "89 66 23\n",
        "94 28.1 0.167 21 0\n",
        "3\n",
        "0 137 40 35 168 43.1 2.288 33 1\n",
        "4\n",
        "5 116 74\n",
        "0\n",
        "0 25.6 0.201 30 0\n",
        "5\n",
        "3\n",
        "78 50 32\n",
        "88 31.0 0.248 26 1\n",
        "6\n",
        "10 115\n",
        "0\n",
        "0\n",
        "0 35.3 0.134 29 0\n",
        "7\n",
        "2 197 70 45 543 30.5 0.158 53 1\n",
        "8\n",
        "8 125 96\n",
        "0\n",
        "0\n",
        "0.0 0.232 54 1\n",
        "9\n",
        "4 110 92\n",
        "0\n",
        "0 37.6 0.191 30 0\n",
        "10 10 168 74\n",
        "0\n",
        "0 38.0 0.537 34 1\n",
        "11 10 139 80\n",
        "0\n",
        "0 27.1 1.441 57 0\n",
        "12\n",
        "1 189 60 23 846 30.1 0.398 59 1\n",
        "13\n",
        "5 166 72 19 175 25.8 0.587 51 1\n",
        "14\n",
        "7 100\n",
        "0\n",
        "0\n",
        "0 30.0 0.484 32 1\n",
        "15\n",
        "0 118 84 47 230 45.8 0.551 31 1\n",
        "16\n",
        "7 107 74\n",
        "0\n",
        "0 29.6 0.254 31 1\n",
        "17\n",
        "1 103 30 38\n",
        "83 43.3 0.183 33 0\n",
        "18\n",
        "1 115 70 30\n",
        "96 34.6 0.529 32 1\n",
        "19\n",
        "3 126 88 41 235 39.3 0.704 27 0\n",
        "raw_data.describe()\n",
        "6\n",
        "148 72\n",
        "35\n",
        "0\n",
        "33.6\n",
        "0.627\n",
        "count 767.000000 767.000000 767.000000 767.000000 767.000000 767.000000 767.000000 767.\n",
        "mean\n",
        "3.842243 120.859192\n",
        "69.101695\n",
        "20.517601\n",
        "79.903520\n",
        "31.990482\n",
        "0.471674\n",
        "33.\n",
        "std\n",
        "3.370877\n",
        "31.978468\n",
        "19.368155\n",
        "15.954059 115.283105\n",
        "7.889091\n",
        "0.331497\n",
        "11.\n",
        "min\n",
        "0.000000\n",
        "0.000000\n",
        "0.000000\n",
        "0.000000\n",
        "0.000000\n",
        "0.000000\n",
        "0.078000\n",
        "21.\n",
        "25%\n",
        "1.000000\n",
        "99.000000\n",
        "62.000000\n",
        "0.000000\n",
        "0.000000\n",
        "27.300000\n",
        "0.243500\n",
        "24.\n",
        "50%\n",
        "3.000000 117.000000\n",
        "72.000000\n",
        "23.000000\n",
        "32.000000\n",
        "32.000000\n",
        "0.371000\n",
        "29.\n",
        "75%\n",
        "6.000000 140.000000\n",
        "80.000000\n",
        "32.000000 127.500000\n",
        "36.600000\n",
        "0.625000\n",
        "41.\n",
        "max\n",
        "17.000000 199.000000 122.000000\n",
        "99.000000 846.000000\n",
        "67.100000\n",
        "2.420000\n",
        "81.\n",
        "raw_data.cov()\n",
        "drive/15Ilt0v0DcgePNNXVQqZ44BavYiiGFhVl#scrollTo=cz7tUzy8UR8r&printMode=true\n",
        "49/61\n",
        "6\n",
        "148\n",
        "72\n",
        "35\n",
        "0\n",
        "33.6\n",
        "0.627\n",
        "6\n",
        "11.362809\n",
        "13.888985\n",
        "9.218414\n",
        "-4.436515\n",
        "-28.367721\n",
        "0.465859 -0.037912\n",
        "21\n",
        "148\n",
        "13.888985 1022.622445\n",
        "94.451675\n",
        "28.764884\n",
        "1225.357154\n",
        "55.742783\n",
        "1.451278\n",
        "98\n",
        "72\n",
        "9.218414\n",
        "94.451675 375.125415\n",
        "64.058260\n",
        "198.939328\n",
        "43.054755\n",
        "0.264396\n",
        "54\n",
        "35\n",
        "-4.436515\n",
        "28.764884\n",
        "64.058260 254.532001\n",
        "805.536948\n",
        "49.407935\n",
        "0.970472\n",
        "-21\n",
        "0\n",
        "-28.367721 1225.357154 198.939328 805.536948 13290.194335 180.177540\n",
        "7.092087\n",
        "-55\n",
        "33.6\n",
        "0.465859\n",
        "55.742783\n",
        "43.054755\n",
        "49.407935\n",
        "180.177540\n",
        "62.237755\n",
        "0.367558\n",
        "3\n",
        "0.627\n",
        "-0.037912\n",
        "1.451278\n",
        "0.264396\n",
        "0.970472\n",
        "7.092087\n",
        "0.367558\n",
        "0.109890\n",
        "0\n",
        "50\n",
        "21.551571\n",
        "98.618350\n",
        "54.531221\n",
        "-21.725792\n",
        "-55.469702\n",
        "3.329503\n",
        "0.127544 138\n",
        "1\n",
        "0.355250\n",
        "7.101300\n",
        "0.599018\n",
        "0.557181\n",
        "7.252951\n",
        "1.100707\n",
        "0.027376\n",
        "1\n",
        "raw_data.corr()\n",
        "6\n",
        "148\n",
        "72\n",
        "35\n",
        "0\n",
        "33.6\n",
        "0.627\n",
        "50\n",
        "6\n",
        "1.000000 0.128846 0.141197 -0.082495 -0.072999 0.017518 -0.033927\n",
        "0.544018 0.221\n",
        "148\n",
        "0.128846 1.000000 0.152498\n",
        "0.056381\n",
        "0.332383 0.220955\n",
        "0.136903\n",
        "0.262408 0.465\n",
        "72\n",
        "0.141197 0.152498 1.000000\n",
        "0.207308\n",
        "0.089098 0.281777\n",
        "0.041180\n",
        "0.239571 0.064\n",
        "35\n",
        "-0.082495 0.056381 0.207308\n",
        "1.000000\n",
        "0.437974 0.392553\n",
        "0.183498 -0.115873 0.073\n",
        "0\n",
        "-0.072999 0.332383 0.089098\n",
        "0.437974\n",
        "1.000000 0.198111\n",
        "0.185579 -0.040942 0.131\n",
        "33.6\n",
        "0.017518 0.220955 0.281777\n",
        "0.392553\n",
        "0.198111 1.000000\n",
        "0.140546\n",
        "0.035911 0.292\n",
        "0.627 -0.033927 0.136903 0.041180\n",
        "0.183498\n",
        "0.185579 0.140546\n",
        "1.000000\n",
        "0.032738 0.173\n",
        "50\n",
        "0.544018 0.262408 0.239571 -0.115873 -0.040942 0.035911\n",
        "0.032738\n",
        "1.000000 0.236\n",
        "1\n",
        "0.221087 0.465856 0.064882\n",
        "0.073265\n",
        "0.131984 0.292695\n",
        "0.173245\n",
        "0.236417 1.000\n",
        "from sklearn.datasets import load_iris \n",
        "import numpy as np\n",
        "iris=load_iris() \n",
        "iris\n",
        "{'DESCR': '.. _iris_dataset:\\n\\nIris plants dataset\\n--------------------\\n\\n**Data Set Characteristics:**\\n\\n :Num \n",
        "'data': array([[5.1, 3.5, 1.4, 0.2],\n",
        "[4.9, 3. , 1.4, 0.2],\n",
        "[4.7, 3.2, 1.3, 0.2],\n",
        "[4.6, 3.1, 1.5, 0.2],\n",
        "[5. , 3.6, 1.4, 0.2],\n",
        "[5.4, 3.9, 1.7, 0.4],\n",
        "[4.6, 3.4, 1.4, 0.3],\n",
        "[5. , 3.4, 1.5, 0.2],\n",
        "[4.4, 2.9, 1.4, 0.2],\n",
        "[4.9, 3.1, 1.5, 0.1],\n",
        "[5.4, 3.7, 1.5, 0.2],\n",
        "[4.8, 3.4, 1.6, 0.2],\n",
        "[4.8, 3. , 1.4, 0.1],\n",
        "[4.3, 3. , 1.1, 0.1],\n",
        "[5.8, 4. , 1.2, 0.2],\n",
        "[5.7, 4.4, 1.5, 0.4],\n",
        "[5.4, 3.9, 1.3, 0.4],\n",
        "[5.1, 3.5, 1.4, 0.3],\n",
        "[5.7, 3.8, 1.7, 0.3],\n",
        "[5.1, 3.8, 1.5, 0.3],\n",
        "[5.4, 3.4, 1.7, 0.2],\n",
        "[5.1, 3.7, 1.5, 0.4],\n",
        "[4.6, 3.6, 1. , 0.2],\n",
        "[5.1, 3.3, 1.7, 0.5],\n",
        "[4.8, 3.4, 1.9, 0.2],\n",
        "[5. , 3. , 1.6, 0.2],\n",
        "[5. , 3.4, 1.6, 0.4],\n",
        "[5.2, 3.5, 1.5, 0.2],\n",
        "[5.2, 3.4, 1.4, 0.2],\n",
        "[4.7, 3.2, 1.6, 0.2],\n",
        "[4.8, 3.1, 1.6, 0.2],\n",
        "[5.4, 3.4, 1.5, 0.4],\n",
        "[5.2, 4.1, 1.5, 0.1],\n",
        "[5.5, 4.2, 1.4, 0.2],\n",
        "[4.9, 3.1, 1.5, 0.2],\n",
        "[5. , 3.2, 1.2, 0.2],\n",
        "[5.5, 3.5, 1.3, 0.2],\n",
        "[4.9, 3.6, 1.4, 0.1],\n",
        "[4.4, 3. , 1.3, 0.2],\n",
        "[5.1, 3.4, 1.5, 0.2],\n",
        "[5. , 3.5, 1.3, 0.3],\n",
        "[4.5, 2.3, 1.3, 0.3],\n",
        "[4.4, 3.2, 1.3, 0.2],\n",
        "[5. , 3.5, 1.6, 0.6],\n",
        "[5.1, 3.8, 1.9, 0.4],\n",
        "[4.8, 3. , 1.4, 0.3],\n",
        "[5.1, 3.8, 1.6, 0.2],\n",
        "[4.6, 3.2, 1.4, 0.2],\n",
        "[5.3, 3.7, 1.5, 0.2],\n",
        "[5. , 3.3, 1.4, 0.2],\n",
        "[7. , 3.2, 4.7, 1.4],\n",
        "[6.4, 3.2, 4.5, 1.5],\n",
        "[6.9, 3.1, 4.9, 1.5],\n",
        "[5.5, 2.3, 4. , 1.3],\n",
        "[6.5, 2.8, 4.6, 1.5],\n",
        "[5.7, 2.8, 4.5, 1.3],\n",
        "[5.1, 3.8, 1.5, 0.3],\n",
        "145 6.7 3.0 5.2 2.3\n",
        "146 6.3 2.5 5.0 1.9\n",
        "147 6.5 3.0 5.2 2.0\n",
        "148 6.2 3.4 5.4 2.3\n",
        "149\n",
        "5.9 3.0 5.1\n",
        "1.8\n",
        "150 rows × 4 columns\n",
        "0\n",
        "1\n",
        "2\n",
        "3\n",
        "0\n",
        "5.1 3.5 1.4 0.2\n",
        "1\n",
        "4.9 3.0 1.4 0.2\n",
        "2\n",
        "4.7 3.2 1.3 0.2\n",
        "3\n",
        "4.6 3.1 1.5 0.2\n",
        "4\n",
        "5.0 3.6 1.4 0.2\n",
        "...\n",
        "...\n",
        "...\n",
        "...\n",
        "...\n",
        "X.shape \n",
        "(150,4)\n",
        "X.columns=['Sepal_length','Sepal_width','petal_length','petal_width'] \n",
        "X.head()\n",
        "Sepal_length\n",
        "Sepal_width\n",
        "petal_length petal_width\n",
        "0\n",
        "5.1\n",
        "3.5\n",
        "1.4\n",
        "0.2\n",
        "1\n",
        "4.9\n",
        "3.0\n",
        "1.4\n",
        "0.2\n",
        "2\n",
        "4.7\n",
        "3.2\n",
        "1.3\n",
        "0.2\n",
        "3\n",
        "4.6\n",
        "3.1\n",
        "1.5\n",
        "0.2\n",
        "4\n",
        "5.0\n",
        "3.6\n",
        "1.4\n",
        "0.2\n",
        "X.tail()\n",
        "Sepal_length Sepal_width petal_length petal_width\n",
        "145\n",
        "6.7\n",
        "3.0\n",
        "5.2\n",
        "2.3\n",
        "146\n",
        "6.3\n",
        "2.5\n",
        "5.0\n",
        "1.9\n",
        "147\n",
        "6.5\n",
        "3.0\n",
        "5.2\n",
        "2.0\n",
        "148\n",
        "6.2\n",
        "3.4\n",
        "5.4\n",
        "2.3\n",
        "149\n",
        "5.9\n",
        "3.0\n",
        "5.1\n",
        "1.8\n",
        "X.describe()\n",
        "Sepal_length Sepal_width petal_length petal_width\n",
        "count\n",
        "150.000000\n",
        "150.000000\n",
        "150.000000\n",
        "150.000000\n",
        "mean\n",
        "5.843333\n",
        "3.057333\n",
        "3.758000\n",
        "1.199333\n",
        "X.cov()\n",
        "Sepal_length Sepal_width petal_length petal_width\n",
        "Sepal_length\n",
        "0.685694\n",
        "-0.042434 1.274315 0.516271\n",
        "Sepal_width\n",
        "-0.042434 0.189979\n",
        "-0.329656\n",
        "-0.121639\n",
        "petal_length\n",
        "1.274315\n",
        "-0.329656 3.116278 1.295609\n",
        "petal_width\n",
        "0.516271\n",
        "-0.121639\n",
        "1.295609\n",
        "0.581006\n",
        "X.corr()\n",
        "Sepal_length Sepal_width petal_length petal_width\n",
        "Sepal_length\n",
        "1.000000\n",
        "-0.117570\n",
        "0.871754\n",
        "0.817941\n",
        "Sepal_width\n",
        "-0.117570\n",
        "1.000000\n",
        "-0.428440\n",
        "-0.366126\n",
        "petal_length\n",
        "0.871754\n",
        "-0.428440\n",
        "1.000000\n",
        "0.962865\n",
        "petal_width\n",
        "0.817941\n",
        "-0.366126\n",
        "0.962865\n",
        "1.000000\n",
        "import numpy as np \n",
        "df=pd.DataFrame({'Name':['Pooji','Nani','Chinni','Chikki'],'state':['IND','USA','UK','USSR'],'Grade':['A','A','B','C'],'Age':np. \n",
        "print(df)\n",
        "Name state Grade\n",
        "Age\n",
        "salary\n",
        "0 Pooji IND\n",
        "A 30.906880 3595.154133\n",
        "1 Nani USA\n",
        "A 34.991981 4261.790535\n",
        "2 Chinni UK\n",
        "B 33.773451 4475.564708\n",
        "3 Chikki USSR\n",
        "C 33.556051 3680.246936\n",
        "import numpy as np \n",
        "import pandas as pd\n",
        "df=pd.DataFrame({'Name':['Pooji','Nani','Chinni','Chikki'],'state':['IND','USA','UK','USSR'],'Grade':['A','A','B','C'],'Age':np. \n",
        "df.groupby(['Name','state']).max()"
      ],
      "execution_count": null,
      "outputs": []
    },
    {
      "cell_type": "markdown",
      "metadata": {
        "id": "ewOaLX5DaEwX"
      },
      "source": [
        " Scipy"
      ]
    },
    {
      "cell_type": "code",
      "metadata": {
        "id": "cS6eefxpaLMz"
      },
      "source": [
        " \n",
        " \n",
        " \n",
        "import numpy as np \n",
        "np.linspace(1.,4.,6)\n",
        "array([1. , 1.6, 2.2, 2.8, 3.4, 4. ])\n",
        "from scipy.cluster.vq importkmeans,vq,whiten \n",
        "from numpy import vstack,array\n",
        "from numpy.random import rand\n",
        "data=vstack((rand(100,3)+array([.5,.5,.5]),rand(100,3))) \n",
        "data\n",
        "array([[0.90258909, 0.9233607 , 0.78273525],\n",
        "[0.59467738, 1.02911659, 0.88358223],\n",
        "[0.92905869, 0.80844347, 0.82420722],\n",
        "[1.06828604, 0.81638002, 0.88543623],\n",
        "[0.76992404, 1.26167714, 1.10877409],\n",
        "[0.94258935, 1.0448952 , 1.06661058],\n",
        "[0.58711959, 0.74227861, 0.79150924],\n",
        "[1.19399041, 1.33268416, 0.61880348],\n",
        "[1.44290692, 1.36136538, 0.78877052],\n",
        "[1.03774349, 0.6544453 , 0.51597171],\n",
        "[0.85270142, 1.09004265, 1.46484699],\n",
        "[1.49274988, 1.22665456, 0.61984447],\n",
        "[1.40821041, 1.41990694, 1.30399566],\n",
        "[1.15292093, 1.47797535, 1.49433546],\n",
        "[1.23392988, 1.28656044, 1.19497233],\n",
        "[1.30474702, 1.17295312, 0.99283884],\n",
        "[1.11447917, 1.05786207, 1.20734399],\n",
        "[0.57127275, 1.00986092, 0.7823292 ],\n",
        "[0.65881379, 0.5586953 , 1.19068023],\n",
        "[0.63549054, 1.43347337, 1.20934843],\n",
        "[1.29225155, 1.18181672, 1.02012635],\n",
        "[1.29555226, 0.97626639, 1.485882 ],\n",
        "[0.64667569, 0.69919071, 1.1864496 ],\n",
        "[0.93023392, 0.91972667, 1.2469598 ],\n",
        "[0.82753469, 0.96163331, 1.01320967],\n",
        "[1.49970107, 0.50047758, 1.2111403 ],\n",
        "[1.01357654, 0.87647747, 1.24656772],\n",
        "[1.45615945, 1.42696013, 0.62253123],\n",
        "[1.06189792, 1.49445231, 0.63966425],\n",
        "[0.84649455, 1.35510061, 1.48476767],\n",
        "[0.97081189, 1.29297546, 1.26874188],\n",
        "[1.20442852, 0.91949897, 0.88777343],\n",
        "[0.95969091, 0.73892865, 0.5579961 ],\n",
        "[0.74723184, 0.59132549, 0.66483177],\n",
        "[0.5757808 , 0.77717716, 1.23873048],\n",
        "[1.21637942, 1.30881095, 1.14530707],\n",
        "[0.66188824, 1.04102459, 0.62415182],\n",
        "[1.48653083, 0.93795358, 1.32296478],\n",
        "[0.76699392, 1.14114594, 0.70449482],\n",
        "[0.9997548 , 0.87533817, 0.8307093 ]\n",
        "[1.25160065, 0.83891044, 0.55252769],\n",
        "https://colab.research.google.com/drive/15Ilt0v0DcgePNNXVQqZ44BavYiiGFhVl#scrollTo=cz7tUzy8UR8r&printMode=true\n",
        "54/61\n",
        "[0.53980197, 0.53559352, 0.70849509],\n",
        "[0.84755593, 1.30884233, 1.11748818],\n",
        "[0.61598479, 0.92493323, 0.62984949],\n",
        "[0.58814621, 1.43817664, 1.00232063],\n",
        "[1.02392348, 0.98574837, 0.83436041],\n",
        "[1.16143734, 0.63678783, 0.60890533],\n",
        "[1.45800622, 1.31447604, 1.20930403],\n",
        "[1.14004837, 0.94355688, 0.59025659],\n",
        "[0.98340077, 1.04390078, 0.6218841 ],\n",
        "[1.07777382, 1.41688591, 0.86597751],\n",
        "[1.17337323, 0.68930459, 0.54606734],\n",
        "[0.78309997, 0.70960006, 0.8653093 ],\n",
        "[0.8879114 , 0.83011562, 1.24778146],\n",
        "[0.85948029, 1.14241534, 0.91087691],\n",
        "[1.13946389, 1.28495366, 1.23643912],\n",
        "[1.26684229, 0.52693652, 1.4311785 ],\n",
        "[1.15827702, 1.1111431 , 0.63416144],\n",
        "[0 63860458 0 71161294 0 94442562]\n",
        "data=whiten(data) \n",
        "data\n",
        "array([[2.41005477, 2.35350275, 2.07361492],\n",
        "[1.58788209, 2.62305806, 2.3407778 ],\n",
        "[2.48073275, 2.06059662, 2.18348208],\n",
        "[2.85249166, 2.08082566, 2.3456894 ],\n",
        "[2.05581824, 3.21581873, 2.93735398],\n",
        "[2.51686174, 2.66327528, 2.82565481],\n",
        "[1.56770161, 1.89195269, 2.0968589 ],\n",
        "[3.18814209, 3.39680457, 1.6393284 ],\n",
        "[3.85278831, 3.46990853, 2.08960349],\n",
        "[2.77093826, 1.66807923, 1.36690744],\n",
        "[2.27684685, 2.77834912, 3.88065898],\n",
        "[3.98587685, 3.12655163, 1.64208619],\n",
        "[3.76014317, 3.61912187, 3.45453314],\n",
        "[3.07848012, 3.76712921, 3.95877954],\n",
        "[3.29478676, 3.27924238, 3.16570954],\n",
        "[3.48387965, 2.98967501, 2.63021939],\n",
        "[2.97583459, 2.69632582, 3.19848443],\n",
        "[1.52538804, 2.57397835, 2.07253921],\n",
        "[1.7591364 , 1.4240274 , 3.15433895],\n",
        "[1.69685964, 3.65370059, 3.20379458],\n",
        "[3.4505148 , 3.01226693, 2.70250922],\n",
        "[3.4593282 , 2.48835113, 3.93638472],\n",
        "[1.72672576, 1.78212834, 3.14313121],\n",
        "[2.48387081, 2.34424019, 3.30343427],\n",
        "[2.20964773, 2.45105368, 2.68418561],\n",
        "[4.00443763, 1.27563948, 3.20854158],\n",
        "[2.70640872, 2.2340047 , 3.30239558],\n",
        "[3.88817466, 3.63709936, 1.64920393],\n",
        "[2.83543439, 3.80912642, 1.69459257],\n",
        "[2.26027353, 3.45394063, 3.93343266],\n",
        "[2.59222038, 3.29559328, 3.36113915],\n",
        "[3.21601348, 2.3436598 , 2.35188108],\n",
        "[2.56252561, 1.88341416, 1.47823807],\n",
        "[1.99522648, 1.50719667, 1.76126611],\n",
        "[1.53742525, 1.98090367, 3.28163322],\n",
        "[3.24792426, 3.33595546, 3.03413679],\n",
        "[1.76734565, 2.65340972, 1.65349718],\n",
        "[3.969271 , 2.39069774, 3.50478595],\n",
        "[2.04799434, 2.90860345, 1.86634109],\n",
        "[2.6695025 , 2.23110081, 2.20070732],\n",
        "[3.34197049, 2.13825218, 1.46375119],\n",
        "[1.44135611, 1.36514455, 1.87693857],\n",
        "[2.26310759, 3.33603546, 2.96043926],\n",
        "[1.64477621, 2.3575109 , 1.66859139],\n",
        "[1.57044285, 3.6656885 , 2.65533846],\n",
        "[2.73403665, 2.51251922, 2.2103798 ],\n",
        "[3.10122028, 1.6230731 , 1.61310632],\n",
        "[3.89310582, 3.35039492, 3.20367694],\n",
        "[3.04410837, 2.40497968, 1.56370224],\n",
        "[2.62583465, 2.66074068, 1.64748957],\n",
        "[2.87782553, 3.61142174, 2.29413954],\n",
        "[3.13309098, 1.75693014, 1.4466365 ],\n",
        "[2.09100003, 1.80866015, 2.29236931],\n",
        "[2.37086304, 2.11583557, 3.305611 ],\n",
        "[2.2949475 , 2.91183896, 2.4130866 ],\n",
        "[3.04254773, 3.27514695, 3.27556299],\n",
        "[3.38266806, 1.34307921, 3.79146473],\n",
        "[3.09278173, 2.83213089, 1.68001457],\n",
        "[1.70517462, 1.81379067, 2.50196355],\n",
        "centroids,_=kmeans(data,3) \n",
        "centroids\n",
        "array([[2.87117126, 2.87609742, 2.77016224],\n",
        "[1.80705689, 1.52016619, 2.1138557 ],\n",
        "[1.13101776, 1.2148155 , 0.80648608]])\n",
        "clx,_=vq(data,centroids) \n",
        "clx\n",
        "array([0, 1, 1, 0, 0, 0, 1, 0, 0, 1, 0, 0, 0, 0, 0, 0, 0, 1, 1, 0, 0, 0,\n",
        "1, 0, 0, 0, 0, 0, 0, 0, 0, 0, 1, 1, 1, 0, 1, 0, 0, 0, 0, 1, 0, 1,\n",
        "0, 0, 1, 0, 0, 0, 0, 1, 1, 0, 0, 0, 0, 0, 1, 0, 0, 0, 0, 0, 0, 0,\n",
        "0, 0, 0, 0, 0, 1, 0, 1, 1, 0, 0, 0, 0, 0, 0, 1, 1, 0, 0, 0, 0, 0,\n",
        "1, 0, 1, 0, 0, 0, 0, 0, 0, 0, 0, 0, 1, 2, 1, 1, 2, 2, 1, 2, 1, 2,\n",
        "1, 1, 2, 2, 2, 1, 2, 2, 1, 2, 1, 2, 1, 2, 1, 1, 1, 1, 1, 2, 2, 2,\n",
        "1, 1, 2, 1, 1, 2, 2, 2, 1, 2, 1, 1, 2, 1, 1, 2, 2, 2, 2, 2, 1, 0,\n",
        "2, 1, 2, 2, 2, 2, 2, 1, 1, 2, 2, 1, 2, 2, 1, 1, 1, 2, 1, 2, 1, 1,\n",
        "2, 2, 2, 2, 2, 2, 2, 1, 2, 1, 1, 2, 2, 1, 1, 2, 2, 2, 2, 2, 1, 2,\n",
        "2, 2], dtype=int32)\n",
        "from scipy.fftpack import fft \n",
        "x=np.array([1.0,2.0,1.0,-1.0,1.5])\n",
        "y=fft(x) \n",
        "print(\"FFT :\\n\",y)\n",
        "FFT :\n",
        "[ 4.5\n",
        "-0.j\n",
        "2.08155948-1.65109876j -1.83155948+1.60822041j\n",
        "-1.83155948-1.60822041j 2.08155948+1.65109876j]\n",
        "from scipy.fftpack import ifft \n",
        "yinv=ifft(y)\n",
        "print(\"FFT Inverse:\\n\",yinv)\n",
        "FFT Inverse:\n",
        "[ 1. +0.j 2. +0.j 1. +0.j -1. +0.j 1.5+0.j]\n",
        "from scipy.fftpack import dct \n",
        "print(\"DCT:\\n\",dct(np.array([4.,3.,5.,10.,5.,3.])))\n",
        "DCT:\n",
        "[ 60.\n",
        "-3.48476592 -13.85640646 11.3137085 6.\n",
        "-6.31319305]\n",
        "from scipy.fftpack import idct \n",
        "print(\"IDCT:\\n\",idct(np.array([4.,3.,5.,10.,5.,3.])))\n",
        "IDCT:\n",
        "[ 39.15085889 -20.14213562 -6.45392043 7.13341236 8.14213562\n",
        "-3.83035081]"
      ],
      "execution_count": null,
      "outputs": []
    },
    {
      "cell_type": "markdown",
      "metadata": {
        "id": "rTtNkTX6atqm"
      },
      "source": [
        " SciPy-Integrated\n",
        "The general form of quad is scipy.integrate.quad(f,a,b), Where 'f' is the name of the function to \n",
        "be integrated. Whereas, 'a' and 'b' are the lower and upper limits, respectively. Let us see an \n",
        "example of the Gaussian function, integrated over a range of 0 and 1"
      ]
    },
    {
      "cell_type": "markdown",
      "metadata": {
        "id": "s4Bk1ND6a0En"
      },
      "source": [
        " ∫f(x)dx"
      ]
    },
    {
      "cell_type": "code",
      "metadata": {
        "colab": {
          "base_uri": "https://localhost:8080/"
        },
        "id": "eo7foCE2a6Qv",
        "outputId": "4144a823-a7fa-4197-eccc-5196690abf21"
      },
      "source": [
        " \n",
        "import scipy.integrate \n",
        "from numpy import exp \n",
        "f=lambda x:exp(-x**2)\n",
        "i=scipy.integrate.quad(f,0,1) \n",
        "print(i)\n",
        "(0.7468241328124271, 8.291413475940725e-15)"
      ],
      "execution_count": null,
      "outputs": [
        {
          "output_type": "stream",
          "name": "stdout",
          "text": [
            "(0.7468241328124271, 8.291413475940725e-15)\n"
          ]
        },
        {
          "output_type": "execute_result",
          "data": {
            "text/plain": [
              "(0.7468241328124271, 8.291413475940725e-15)"
            ]
          },
          "metadata": {},
          "execution_count": 79
        }
      ]
    },
    {
      "cell_type": "markdown",
      "metadata": {
        "id": "P0lqN9jna9XE"
      },
      "source": [
        " Linear Algebra"
      ]
    },
    {
      "cell_type": "code",
      "metadata": {
        "id": "kfFmbrKhbBrY"
      },
      "source": [
        " \n",
        "x+3y+5z=10 \n",
        "2x+5y+z=8 \n",
        "2x+3y+8z=3 *\n",
        "from scipy import linalg \n",
        "import numpy as np\n",
        "a=np.array([[1,3,5],[2,5,1],[2,3,8]])\n",
        "b=np.array([10,8,3]) \n",
        "X=linalg.solve(a,b) \n",
        "print(X)\n",
        "[-9.28 5.16 0.76]"
      ],
      "execution_count": null,
      "outputs": []
    },
    {
      "cell_type": "markdown",
      "metadata": {
        "id": "Ff9Y3G-HbLBs"
      },
      "source": [
        " Finding an Determinant"
      ]
    },
    {
      "cell_type": "code",
      "metadata": {
        "colab": {
          "base_uri": "https://localhost:8080/"
        },
        "id": "pourisSRbMpI",
        "outputId": "e260f4a0-680c-410b-c5fa-cce2bc375d1a"
      },
      "source": [
        " \n",
        "from scipy import linalg \n",
        "import numpy as np\n",
        "A=np.array([[1,2],[3,4]])\n",
        "x=linalg.det(A) \n",
        "print(x)\n",
        "-2.0"
      ],
      "execution_count": null,
      "outputs": [
        {
          "output_type": "stream",
          "name": "stdout",
          "text": [
            "-2.0\n"
          ]
        },
        {
          "output_type": "execute_result",
          "data": {
            "text/plain": [
              "-2.0"
            ]
          },
          "metadata": {},
          "execution_count": 72
        }
      ]
    },
    {
      "cell_type": "markdown",
      "metadata": {
        "id": "O01wXHs3bTFW"
      },
      "source": [
        " Eigen values and Eigen Vectors"
      ]
    },
    {
      "cell_type": "code",
      "metadata": {
        "id": "5AgP8Br9bXZ7"
      },
      "source": [
        " \n",
        "from scipy import linalg \n",
        "import numpy as np\n",
        "A=np.array([[1,2],[3,4]])\n",
        "l,v=linalg.eig(A) \n",
        "print(\"Eigen Values :\\n\",l) \n",
        "print(\"Eigen Vectors:\\n\",v)\n",
        "Eigen Values :\n",
        "[-0.37228132+0.j 5.37228132+0.j]\n",
        "Eigen Vectors:\n",
        "[[-0.82456484 -0.41597356]\n",
        "[ 0.56576746 -0.90937671]]"
      ],
      "execution_count": null,
      "outputs": []
    },
    {
      "cell_type": "markdown",
      "metadata": {
        "id": "lV3k_9xFbgmG"
      },
      "source": [
        " Matplot Library"
      ]
    },
    {
      "cell_type": "code",
      "metadata": {
        "id": "zobpyMOGbkYq"
      },
      "source": [
        " \n",
        " \n",
        " \n",
        "import matplotlib.pyplot as plt \n",
        "import numpy as np\n",
        "x=np.arange(5) \n",
        "y=(35,45,23,27,60)\n",
        "plt.bar(x,y) \n",
        "plt.show()\n",
        "plt.scatter(x,y) \n",
        "plt.show()\n",
        "import pandas as pd\n",
        "from sklearn.datasets import load_iris \n",
        "iris=load_iris() \n",
        "df=pd.DataFrame(iris.data)\n",
        "df.columns=['sepal_Length','sepal_Width','petal_Length','petal_Width'] \n",
        "df.head()\n",
        " \n",
        "sepal_Length sepal_Width petal_Length petal_Width\n",
        "df.hist()\n",
        "plt.show()\n",
        "df.plot() \n",
        "plt.show()\n",
        "df.boxplot() \n",
        "plt.show()\n",
        "import numpy as np \n",
        "x=np.linspace(0,20,1000) \n",
        "y=np.sin(x)\n",
        "plt.plot(x,y,label='sample Label') \n",
        "plt.title('sample plot title') \n",
        "plt.xlabel('x axis label') \n",
        "plt.ylabel('y axis label') \n",
        "plt.grid(True)\n",
        "plt.figtext(0.5,0.01,'Fig1:Sinusodial', ha='right',va='bottom')\n",
        "plt.legend(loc='best',framealpha=0.5,prop={'size':'small'}) \n",
        "plt.tight_layout(pad=1)\n",
        "plt.show()"
      ],
      "execution_count": null,
      "outputs": []
    }
  ]
}